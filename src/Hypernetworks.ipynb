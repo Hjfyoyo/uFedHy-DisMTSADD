{
 "cells": [
  {
   "cell_type": "code",
   "execution_count": 156,
   "metadata": {
    "collapsed": true
   },
   "outputs": [
    {
     "name": "stderr",
     "output_type": "stream",
     "text": [
      "usage: ipykernel_launcher.py [-h] [--device DEVICE]\n",
      "                             [--num_workers NUM_WORKERS]\n",
      "                             [--save_every SAVE_EVERY] [--verbose VERBOSE]\n",
      "                             [--seed SEED] [--iid IID] --alg\n",
      "                             {fedavg,fedprox,moon,scaffold} --dataset\n",
      "                             {smd,smap,psm} --tsadalg\n",
      "                             {gdn,deep_svdd,usad,tran_ad,lstm_ae}\n",
      "                             [--num_clients NUM_CLIENTS]\n",
      "                             [--slide_win SLIDE_WIN]\n",
      "                             [--client_rate CLIENT_RATE] [--beta BETA]\n",
      "ipykernel_launcher.py: error: the following arguments are required: --alg, --dataset, --tsadalg\n"
     ]
    },
    {
     "ename": "SystemExit",
     "evalue": "2",
     "output_type": "error",
     "traceback": [
      "An exception has occurred, use %tb to see the full traceback.\n",
      "\u001B[1;31mSystemExit\u001B[0m\u001B[1;31m:\u001B[0m 2\n"
     ]
    },
    {
     "name": "stderr",
     "output_type": "stream",
     "text": [
      "D:\\Software\\Anaconda3\\envs\\Pytorch\\lib\\site-packages\\IPython\\core\\interactiveshell.py:3441: UserWarning: To exit: use 'exit', 'quit', or Ctrl-D.\n",
      "  warn(\"To exit: use 'exit', 'quit', or Ctrl-D.\", stacklevel=1)\n"
     ]
    }
   ],
   "source": [
    "from collections import OrderedDict\n",
    "\n",
    "import torch.nn.functional as F\n",
    "import torch\n",
    "from torch import nn\n",
    "from torch.nn.utils import spectral_norm\n",
    "import random\n",
    "from algorithms.Transformer import Transformer"
   ]
  },
  {
   "cell_type": "code",
   "execution_count": 106,
   "outputs": [],
   "source": [
    "class ViTHyper(nn.Module):\n",
    "\n",
    "    def __init__(self, n_nodes, embedding_dim, hidden_dim, dim, client_sample, heads=8, dim_head=16, n_hidden=1, depth=6,\n",
    "                 spec_norm=False):\n",
    "        super(ViTHyper, self).__init__()\n",
    "        self.dim = dim\n",
    "        self.inner_dim = dim_head * heads\n",
    "        self.depth = depth\n",
    "        self.client_sample = client_sample\n",
    "        # embedding layer\n",
    "        self.embeddings = nn.Embedding(num_embeddings=n_nodes, embedding_dim=embedding_dim)\n",
    "\n",
    "        layers = [\n",
    "            spectral_norm(nn.Linear(embedding_dim, hidden_dim)) if spec_norm else nn.Linear(embedding_dim, hidden_dim),\n",
    "        ]\n",
    "        for _ in range(n_hidden):\n",
    "            layers.append(nn.ReLU(inplace=True))\n",
    "            layers.append(\n",
    "                spectral_norm(nn.Linear(hidden_dim, hidden_dim)) if spec_norm else nn.Linear(hidden_dim, hidden_dim),\n",
    "            )\n",
    "\n",
    "        self.mlp = nn.Sequential(*layers)\n",
    "\n",
    "        self.to_qkv_value_list=nn.ModuleList([])\n",
    "        for d in range(self.depth):\n",
    "            to_qkv_value = nn.Linear(hidden_dim, self.dim * self.inner_dim)\n",
    "            self.to_qkv_value_list.append(to_qkv_value)\n",
    "\n",
    "\n",
    "    def finetune(self, emd):\n",
    "        features = self.mlp(emd)\n",
    "        weights=OrderedDict()\n",
    "        for d in range(self.depth):\n",
    "            layer_d_qkv_value_hyper = self.to_qkv_value_list[d]\n",
    "            layer_d_qkv_value = layer_d_qkv_value_hyper(features).view(self.inner_dim,self.dim)\n",
    "            weights[\"transformer.layers.\"+str(d)+\".0.fn.to_qkv.weight\"]=layer_d_qkv_value\n",
    "        return weights\n",
    "\n",
    "\n",
    "    def forward(self, idx, test):\n",
    "        weights = 0\n",
    "        emd = self.embeddings(idx)\n",
    "        print(emd.shape)\n",
    "        features = self.mlp(emd)\n",
    "        print(features.shape)\n",
    "        if test == False:\n",
    "            weights = [OrderedDict()  for x in range(self.client_sample)]\n",
    "            for d in range(self.depth):\n",
    "                layer_d_qkv_value_hyper = self.to_qkv_value_list[d]\n",
    "                layer_d_qkv_value = layer_d_qkv_value_hyper(features).view(-1,self.inner_dim,self.dim)\n",
    "                for nn in range(self.client_sample):\n",
    "                    weights[nn][\"transformer.layers.\"+str(d)+\".0.fn.to_qkv.weight\"]=layer_d_qkv_value[nn]\n",
    "        else:\n",
    "            weights=OrderedDict()\n",
    "            for d in range(self.depth):\n",
    "                layer_d_qkv_value_hyper = self.to_qkv_value_list[d]\n",
    "                layer_d_qkv_value = layer_d_qkv_value_hyper(features).view(self.inner_dim,self.dim)\n",
    "                weights[\"transformer.layers.\"+str(d)+\".0.fn.to_qkv.weight\"]=layer_d_qkv_value\n",
    "        return weights\n",
    "\n",
    "class CNNHyper(nn.Module):\n",
    "    def __init__(\n",
    "            self, n_nodes, embedding_dim, in_channels=3, out_dim=10, n_kernels=16, hidden_dim=100,\n",
    "            spec_norm=False, n_hidden=1):\n",
    "        super().__init__()\n",
    "\n",
    "        self.in_channels = in_channels\n",
    "        self.out_dim = out_dim\n",
    "        self.n_kernels = n_kernels\n",
    "        self.embeddings = nn.Embedding(num_embeddings=n_nodes, embedding_dim=embedding_dim)\n",
    "\n",
    "        layers = [\n",
    "            spectral_norm(nn.Linear(embedding_dim, hidden_dim)) if spec_norm else nn.Linear(embedding_dim, hidden_dim),\n",
    "        ]\n",
    "        for _ in range(n_hidden):\n",
    "            layers.append(nn.ReLU(inplace=True))\n",
    "            layers.append(\n",
    "                spectral_norm(nn.Linear(hidden_dim, hidden_dim)) if spec_norm else nn.Linear(hidden_dim, hidden_dim),\n",
    "            )\n",
    "\n",
    "        self.mlp = nn.Sequential(*layers)\n",
    "\n",
    "        self.c1_weights = nn.Linear(hidden_dim, self.n_kernels * self.in_channels * 5 * 5)\n",
    "        self.c1_bias = nn.Linear(hidden_dim, self.n_kernels)\n",
    "        self.c2_weights = nn.Linear(hidden_dim, 2 * self.n_kernels * self.n_kernels * 5 * 5)\n",
    "        self.c2_bias = nn.Linear(hidden_dim, 2 * self.n_kernels)\n",
    "        self.l1_weights = nn.Linear(hidden_dim, 120 * 2 * self.n_kernels * 5 * 5)\n",
    "        self.l1_bias = nn.Linear(hidden_dim, 120)\n",
    "        self.l2_weights = nn.Linear(hidden_dim, 84 * 120)\n",
    "        self.l2_bias = nn.Linear(hidden_dim, 84)\n",
    "        self.l3_weights = nn.Linear(hidden_dim, self.out_dim * 84)\n",
    "        self.l3_bias = nn.Linear(hidden_dim, self.out_dim)\n",
    "\n",
    "        if spec_norm:\n",
    "            self.c1_weights = spectral_norm(self.c1_weights)\n",
    "            self.c1_bias = spectral_norm(self.c1_bias)\n",
    "            self.c2_weights = spectral_norm(self.c2_weights)\n",
    "            self.c2_bias = spectral_norm(self.c2_bias)\n",
    "            self.l1_weights = spectral_norm(self.l1_weights)\n",
    "            self.l1_bias = spectral_norm(self.l1_bias)\n",
    "            self.l2_weights = spectral_norm(self.l2_weights)\n",
    "            self.l2_bias = spectral_norm(self.l2_bias)\n",
    "            self.l3_weights = spectral_norm(self.l3_weights)\n",
    "            self.l3_bias = spectral_norm(self.l3_bias)\n",
    "\n",
    "    def forward(self, idx):\n",
    "        emd = self.embeddings(idx)\n",
    "        features = self.mlp(emd)\n",
    "\n",
    "        weights = OrderedDict({\n",
    "            \"conv1.weight\": self.c1_weights(features).view(self.n_kernels, self.in_channels, 5, 5),\n",
    "            \"conv1.bias\": self.c1_bias(features).view(-1),\n",
    "            \"conv2.weight\": self.c2_weights(features).view(2 * self.n_kernels, self.n_kernels, 5, 5),\n",
    "            \"conv2.bias\": self.c2_bias(features).view(-1),\n",
    "            \"fc1.weight\": self.l1_weights(features).view(120, 2 * self.n_kernels * 5 * 5),\n",
    "            \"fc1.bias\": self.l1_bias(features).view(-1),\n",
    "            \"fc2.weight\": self.l2_weights(features).view(84, 120),\n",
    "            \"fc2.bias\": self.l2_bias(features).view(-1),\n",
    "            \"fc3.weight\": self.l3_weights(features).view(self.out_dim, 84),\n",
    "            \"fc3.bias\": self.l3_bias(features).view(-1),\n",
    "        })\n",
    "        return weights\n",
    "\n",
    "class CNNTarget(nn.Module):\n",
    "    def __init__(self, in_channels=3, n_kernels=16, out_dim=10):\n",
    "        super(CNNTarget, self).__init__()\n",
    "\n",
    "        self.conv1 = nn.Conv2d(in_channels, n_kernels, 5)\n",
    "        self.pool = nn.MaxPool2d(2, 2)\n",
    "        self.conv2 = nn.Conv2d(n_kernels, 2 * n_kernels, 5)\n",
    "        self.fc1 = nn.Linear(2 * n_kernels * 5 * 5, 120)\n",
    "        self.fc2 = nn.Linear(120, 84)\n",
    "        self.fc3 = nn.Linear(84, out_dim)\n",
    "\n",
    "    def forward(self, x):\n",
    "        x = self.pool(F.relu(self.conv1(x)))\n",
    "        x = self.pool(F.relu(self.conv2(x)))\n",
    "        x = x.view(x.shape[0], -1)\n",
    "        x = F.relu(self.fc1(x))\n",
    "        x = F.relu(self.fc2(x))\n",
    "        x = self.fc3(x)\n",
    "        return x\n"
   ],
   "metadata": {
    "collapsed": false
   }
  },
  {
   "cell_type": "code",
   "execution_count": 96,
   "outputs": [
    {
     "name": "stdout",
     "output_type": "stream",
     "text": [
      "embeddings.weight \t torch.Size([50, 10])\n",
      "mlp.0.weight \t torch.Size([128, 10])\n",
      "mlp.0.bias \t torch.Size([128])\n",
      "mlp.2.weight \t torch.Size([128, 128])\n",
      "mlp.2.bias \t torch.Size([128])\n",
      "to_qkv_value_list.0.weight \t torch.Size([128, 128])\n",
      "to_qkv_value_list.0.bias \t torch.Size([128])\n",
      "to_qkv_value_list.1.weight \t torch.Size([128, 128])\n",
      "to_qkv_value_list.1.bias \t torch.Size([128])\n",
      "to_qkv_value_list.2.weight \t torch.Size([128, 128])\n",
      "to_qkv_value_list.2.bias \t torch.Size([128])\n"
     ]
    }
   ],
   "source": [
    "hnet = ViTHyper(n_nodes=50, embedding_dim=10, hidden_dim=128, dim=1, client_sample=1, depth=3)\n",
    "tran = Transformer(enc_in=33, c_out=33)\n",
    "input = torch.rand((128, 12, 33))\n",
    "output, attns = tran(input)\n",
    "# print(hnet, tran)\n",
    "for param_tensor in hnet.state_dict():\n",
    "    print(param_tensor, \"\\t\", hnet.state_dict()[param_tensor].size())"
   ],
   "metadata": {
    "collapsed": false
   }
  },
  {
   "cell_type": "code",
   "execution_count": 148,
   "outputs": [
    {
     "name": "stdout",
     "output_type": "stream",
     "text": [
      "enc_embedding.value_embedding.tokenConv.weight \t torch.Size([128, 33, 3])\n",
      "enc_embedding.position_embedding.pe \t torch.Size([1, 5000, 128])\n",
      "enc_embedding.temporal_embedding.hour_embed.emb.weight \t torch.Size([24, 128])\n",
      "enc_embedding.temporal_embedding.weekday_embed.emb.weight \t torch.Size([7, 128])\n",
      "enc_embedding.temporal_embedding.day_embed.emb.weight \t torch.Size([32, 128])\n",
      "enc_embedding.temporal_embedding.month_embed.emb.weight \t torch.Size([13, 128])\n",
      "encoder.attn_layers.0.attention.query_projection.weight \t torch.Size([128, 128])\n",
      "encoder.attn_layers.0.attention.query_projection.bias \t torch.Size([128])\n",
      "encoder.attn_layers.0.attention.key_projection.weight \t torch.Size([128, 128])\n",
      "encoder.attn_layers.0.attention.key_projection.bias \t torch.Size([128])\n",
      "encoder.attn_layers.0.attention.value_projection.weight \t torch.Size([128, 128])\n",
      "encoder.attn_layers.0.attention.value_projection.bias \t torch.Size([128])\n",
      "encoder.attn_layers.0.attention.out_projection.weight \t torch.Size([128, 128])\n",
      "encoder.attn_layers.0.attention.out_projection.bias \t torch.Size([128])\n",
      "encoder.attn_layers.0.conv1.weight \t torch.Size([128, 128, 1])\n",
      "encoder.attn_layers.0.conv1.bias \t torch.Size([128])\n",
      "encoder.attn_layers.0.conv2.weight \t torch.Size([128, 128, 1])\n",
      "encoder.attn_layers.0.conv2.bias \t torch.Size([128])\n",
      "encoder.attn_layers.0.norm1.weight \t torch.Size([128])\n",
      "encoder.attn_layers.0.norm1.bias \t torch.Size([128])\n",
      "encoder.attn_layers.0.norm2.weight \t torch.Size([128])\n",
      "encoder.attn_layers.0.norm2.bias \t torch.Size([128])\n",
      "encoder.attn_layers.1.attention.query_projection.weight \t torch.Size([128, 128])\n",
      "encoder.attn_layers.1.attention.query_projection.bias \t torch.Size([128])\n",
      "encoder.attn_layers.1.attention.key_projection.weight \t torch.Size([128, 128])\n",
      "encoder.attn_layers.1.attention.key_projection.bias \t torch.Size([128])\n",
      "encoder.attn_layers.1.attention.value_projection.weight \t torch.Size([128, 128])\n",
      "encoder.attn_layers.1.attention.value_projection.bias \t torch.Size([128])\n",
      "encoder.attn_layers.1.attention.out_projection.weight \t torch.Size([128, 128])\n",
      "encoder.attn_layers.1.attention.out_projection.bias \t torch.Size([128])\n",
      "encoder.attn_layers.1.conv1.weight \t torch.Size([128, 128, 1])\n",
      "encoder.attn_layers.1.conv1.bias \t torch.Size([128])\n",
      "encoder.attn_layers.1.conv2.weight \t torch.Size([128, 128, 1])\n",
      "encoder.attn_layers.1.conv2.bias \t torch.Size([128])\n",
      "encoder.attn_layers.1.norm1.weight \t torch.Size([128])\n",
      "encoder.attn_layers.1.norm1.bias \t torch.Size([128])\n",
      "encoder.attn_layers.1.norm2.weight \t torch.Size([128])\n",
      "encoder.attn_layers.1.norm2.bias \t torch.Size([128])\n",
      "encoder.attn_layers.2.attention.query_projection.weight \t torch.Size([128, 128])\n",
      "encoder.attn_layers.2.attention.query_projection.bias \t torch.Size([128])\n",
      "encoder.attn_layers.2.attention.key_projection.weight \t torch.Size([128, 128])\n",
      "encoder.attn_layers.2.attention.key_projection.bias \t torch.Size([128])\n",
      "encoder.attn_layers.2.attention.value_projection.weight \t torch.Size([128, 128])\n",
      "encoder.attn_layers.2.attention.value_projection.bias \t torch.Size([128])\n",
      "encoder.attn_layers.2.attention.out_projection.weight \t torch.Size([128, 128])\n",
      "encoder.attn_layers.2.attention.out_projection.bias \t torch.Size([128])\n",
      "encoder.attn_layers.2.conv1.weight \t torch.Size([128, 128, 1])\n",
      "encoder.attn_layers.2.conv1.bias \t torch.Size([128])\n",
      "encoder.attn_layers.2.conv2.weight \t torch.Size([128, 128, 1])\n",
      "encoder.attn_layers.2.conv2.bias \t torch.Size([128])\n",
      "encoder.attn_layers.2.norm1.weight \t torch.Size([128])\n",
      "encoder.attn_layers.2.norm1.bias \t torch.Size([128])\n",
      "encoder.attn_layers.2.norm2.weight \t torch.Size([128])\n",
      "encoder.attn_layers.2.norm2.bias \t torch.Size([128])\n",
      "encoder.norm.weight \t torch.Size([128])\n",
      "encoder.norm.bias \t torch.Size([128])\n",
      "projection.weight \t torch.Size([33, 128])\n",
      "projection.bias \t torch.Size([33])\n"
     ]
    }
   ],
   "source": [
    "for param_tensor in tran.state_dict():\n",
    "    print(param_tensor, \"\\t\", tran.state_dict()[param_tensor].size())"
   ],
   "metadata": {
    "collapsed": false
   }
  },
  {
   "cell_type": "code",
   "execution_count": 105,
   "outputs": [
    {
     "name": "stdout",
     "output_type": "stream",
     "text": [
      "6\n",
      "torch.Size([1, 10])\n",
      "torch.Size([1, 128])\n"
     ]
    },
    {
     "data": {
      "text/plain": "_IncompatibleKeys(missing_keys=['enc_embedding.value_embedding.tokenConv.weight', 'enc_embedding.position_embedding.pe', 'enc_embedding.temporal_embedding.hour_embed.emb.weight', 'enc_embedding.temporal_embedding.weekday_embed.emb.weight', 'enc_embedding.temporal_embedding.day_embed.emb.weight', 'enc_embedding.temporal_embedding.month_embed.emb.weight', 'encoder.attn_layers.0.attention.query_projection.weight', 'encoder.attn_layers.0.attention.query_projection.bias', 'encoder.attn_layers.0.attention.key_projection.weight', 'encoder.attn_layers.0.attention.key_projection.bias', 'encoder.attn_layers.0.attention.value_projection.weight', 'encoder.attn_layers.0.attention.value_projection.bias', 'encoder.attn_layers.0.attention.out_projection.weight', 'encoder.attn_layers.0.attention.out_projection.bias', 'encoder.attn_layers.0.conv1.weight', 'encoder.attn_layers.0.conv1.bias', 'encoder.attn_layers.0.conv2.weight', 'encoder.attn_layers.0.conv2.bias', 'encoder.attn_layers.0.norm1.weight', 'encoder.attn_layers.0.norm1.bias', 'encoder.attn_layers.0.norm2.weight', 'encoder.attn_layers.0.norm2.bias', 'encoder.attn_layers.1.attention.query_projection.weight', 'encoder.attn_layers.1.attention.query_projection.bias', 'encoder.attn_layers.1.attention.key_projection.weight', 'encoder.attn_layers.1.attention.key_projection.bias', 'encoder.attn_layers.1.attention.value_projection.weight', 'encoder.attn_layers.1.attention.value_projection.bias', 'encoder.attn_layers.1.attention.out_projection.weight', 'encoder.attn_layers.1.attention.out_projection.bias', 'encoder.attn_layers.1.conv1.weight', 'encoder.attn_layers.1.conv1.bias', 'encoder.attn_layers.1.conv2.weight', 'encoder.attn_layers.1.conv2.bias', 'encoder.attn_layers.1.norm1.weight', 'encoder.attn_layers.1.norm1.bias', 'encoder.attn_layers.1.norm2.weight', 'encoder.attn_layers.1.norm2.bias', 'encoder.attn_layers.2.attention.query_projection.weight', 'encoder.attn_layers.2.attention.query_projection.bias', 'encoder.attn_layers.2.attention.key_projection.weight', 'encoder.attn_layers.2.attention.key_projection.bias', 'encoder.attn_layers.2.attention.value_projection.weight', 'encoder.attn_layers.2.attention.value_projection.bias', 'encoder.attn_layers.2.attention.out_projection.weight', 'encoder.attn_layers.2.attention.out_projection.bias', 'encoder.attn_layers.2.conv1.weight', 'encoder.attn_layers.2.conv1.bias', 'encoder.attn_layers.2.conv2.weight', 'encoder.attn_layers.2.conv2.bias', 'encoder.attn_layers.2.norm1.weight', 'encoder.attn_layers.2.norm1.bias', 'encoder.attn_layers.2.norm2.weight', 'encoder.attn_layers.2.norm2.bias', 'encoder.norm.weight', 'encoder.norm.bias', 'projection.weight', 'projection.bias'], unexpected_keys=['transformer.layers.0.0.fn.to_qkv.weight', 'transformer.layers.1.0.fn.to_qkv.weight', 'transformer.layers.2.0.fn.to_qkv.weight'])"
     },
     "execution_count": 105,
     "metadata": {},
     "output_type": "execute_result"
    }
   ],
   "source": [
    "node_id = random.choice(range(50))\n",
    "print(node_id)\n",
    "weights = hnet(torch.tensor([node_id], dtype=torch.long),False)\n",
    "# weights['transformer.layers.0.0.fn.to_qkv.weight'].shape\n",
    "tran.load_state_dict(weights[0],strict=False)"
   ],
   "metadata": {
    "collapsed": false
   }
  },
  {
   "cell_type": "code",
   "execution_count": 95,
   "outputs": [
    {
     "name": "stdout",
     "output_type": "stream",
     "text": [
      "enc_embedding.value_embedding.tokenConv.weight \t torch.Size([128, 33, 3])\n",
      "enc_embedding.position_embedding.pe \t torch.Size([1, 5000, 128])\n",
      "enc_embedding.temporal_embedding.hour_embed.emb.weight \t torch.Size([24, 128])\n",
      "enc_embedding.temporal_embedding.weekday_embed.emb.weight \t torch.Size([7, 128])\n",
      "enc_embedding.temporal_embedding.day_embed.emb.weight \t torch.Size([32, 128])\n",
      "enc_embedding.temporal_embedding.month_embed.emb.weight \t torch.Size([13, 128])\n",
      "encoder.attn_layers.0.attention.query_projection.weight \t torch.Size([128, 128])\n",
      "encoder.attn_layers.0.attention.query_projection.bias \t torch.Size([128])\n",
      "encoder.attn_layers.0.attention.key_projection.weight \t torch.Size([128, 128])\n",
      "encoder.attn_layers.0.attention.key_projection.bias \t torch.Size([128])\n",
      "encoder.attn_layers.0.attention.value_projection.weight \t torch.Size([128, 128])\n",
      "encoder.attn_layers.0.attention.value_projection.bias \t torch.Size([128])\n",
      "encoder.attn_layers.0.attention.out_projection.weight \t torch.Size([128, 128])\n",
      "encoder.attn_layers.0.attention.out_projection.bias \t torch.Size([128])\n",
      "encoder.attn_layers.0.conv1.weight \t torch.Size([128, 128, 1])\n",
      "encoder.attn_layers.0.conv1.bias \t torch.Size([128])\n",
      "encoder.attn_layers.0.conv2.weight \t torch.Size([128, 128, 1])\n",
      "encoder.attn_layers.0.conv2.bias \t torch.Size([128])\n",
      "encoder.attn_layers.0.norm1.weight \t torch.Size([128])\n",
      "encoder.attn_layers.0.norm1.bias \t torch.Size([128])\n",
      "encoder.attn_layers.0.norm2.weight \t torch.Size([128])\n",
      "encoder.attn_layers.0.norm2.bias \t torch.Size([128])\n",
      "encoder.attn_layers.1.attention.query_projection.weight \t torch.Size([128, 128])\n",
      "encoder.attn_layers.1.attention.query_projection.bias \t torch.Size([128])\n",
      "encoder.attn_layers.1.attention.key_projection.weight \t torch.Size([128, 128])\n",
      "encoder.attn_layers.1.attention.key_projection.bias \t torch.Size([128])\n",
      "encoder.attn_layers.1.attention.value_projection.weight \t torch.Size([128, 128])\n",
      "encoder.attn_layers.1.attention.value_projection.bias \t torch.Size([128])\n",
      "encoder.attn_layers.1.attention.out_projection.weight \t torch.Size([128, 128])\n",
      "encoder.attn_layers.1.attention.out_projection.bias \t torch.Size([128])\n",
      "encoder.attn_layers.1.conv1.weight \t torch.Size([128, 128, 1])\n",
      "encoder.attn_layers.1.conv1.bias \t torch.Size([128])\n",
      "encoder.attn_layers.1.conv2.weight \t torch.Size([128, 128, 1])\n",
      "encoder.attn_layers.1.conv2.bias \t torch.Size([128])\n",
      "encoder.attn_layers.1.norm1.weight \t torch.Size([128])\n",
      "encoder.attn_layers.1.norm1.bias \t torch.Size([128])\n",
      "encoder.attn_layers.1.norm2.weight \t torch.Size([128])\n",
      "encoder.attn_layers.1.norm2.bias \t torch.Size([128])\n",
      "encoder.attn_layers.2.attention.query_projection.weight \t torch.Size([128, 128])\n",
      "encoder.attn_layers.2.attention.query_projection.bias \t torch.Size([128])\n",
      "encoder.attn_layers.2.attention.key_projection.weight \t torch.Size([128, 128])\n",
      "encoder.attn_layers.2.attention.key_projection.bias \t torch.Size([128])\n",
      "encoder.attn_layers.2.attention.value_projection.weight \t torch.Size([128, 128])\n",
      "encoder.attn_layers.2.attention.value_projection.bias \t torch.Size([128])\n",
      "encoder.attn_layers.2.attention.out_projection.weight \t torch.Size([128, 128])\n",
      "encoder.attn_layers.2.attention.out_projection.bias \t torch.Size([128])\n",
      "encoder.attn_layers.2.conv1.weight \t torch.Size([128, 128, 1])\n",
      "encoder.attn_layers.2.conv1.bias \t torch.Size([128])\n",
      "encoder.attn_layers.2.conv2.weight \t torch.Size([128, 128, 1])\n",
      "encoder.attn_layers.2.conv2.bias \t torch.Size([128])\n",
      "encoder.attn_layers.2.norm1.weight \t torch.Size([128])\n",
      "encoder.attn_layers.2.norm1.bias \t torch.Size([128])\n",
      "encoder.attn_layers.2.norm2.weight \t torch.Size([128])\n",
      "encoder.attn_layers.2.norm2.bias \t torch.Size([128])\n",
      "encoder.norm.weight \t torch.Size([128])\n",
      "encoder.norm.bias \t torch.Size([128])\n",
      "projection.weight \t torch.Size([33, 128])\n",
      "projection.bias \t torch.Size([33])\n"
     ]
    }
   ],
   "source": [
    "for param_tensor in tran.state_dict():\n",
    "    print(param_tensor, \"\\t\", tran.state_dict()[param_tensor].size())"
   ],
   "metadata": {
    "collapsed": false
   }
  },
  {
   "cell_type": "code",
   "execution_count": 123,
   "outputs": [
    {
     "name": "stdout",
     "output_type": "stream",
     "text": [
      "36\n"
     ]
    }
   ],
   "source": [
    "net = CNNTarget()\n",
    "node_id = random.choice(range(50))\n",
    "print(node_id)\n",
    "hnet = CNNHyper(n_nodes = 50, embedding_dim = 32, in_channels=3, out_dim=10, n_kernels=16, hidden_dim=100,\n",
    "        spec_norm=False, n_hidden=1)\n",
    "weights = hnet(torch.tensor([node_id], dtype=torch.long))\n",
    "# weights"
   ],
   "metadata": {
    "collapsed": false
   }
  },
  {
   "cell_type": "code",
   "execution_count": 125,
   "outputs": [
    {
     "name": "stdout",
     "output_type": "stream",
     "text": [
      "conv1.weight \t torch.Size([16, 3, 5, 5])\n",
      "conv1.bias \t torch.Size([16])\n",
      "conv2.weight \t torch.Size([32, 16, 5, 5])\n",
      "conv2.bias \t torch.Size([32])\n",
      "fc1.weight \t torch.Size([120, 800])\n",
      "fc1.bias \t torch.Size([120])\n",
      "fc2.weight \t torch.Size([84, 120])\n",
      "fc2.bias \t torch.Size([84])\n",
      "fc3.weight \t torch.Size([10, 84])\n",
      "fc3.bias \t torch.Size([10])\n"
     ]
    }
   ],
   "source": [
    "for param_tensor in net.state_dict():\n",
    "    print(param_tensor, \"\\t\", net.state_dict()[param_tensor].size())"
   ],
   "metadata": {
    "collapsed": false
   }
  },
  {
   "cell_type": "code",
   "execution_count": 137,
   "outputs": [
    {
     "data": {
      "text/plain": "OrderedDict([('conv1.weight',\n              tensor([[[[-3.9400e-01, -1.7225e-03, -6.1360e-02,  8.4005e-02, -1.6359e-01],\n                        [-1.3222e-01,  8.2973e-02,  2.8054e-01, -3.3338e-02,  4.8643e-02],\n                        [-1.0127e-01,  1.1312e-01, -7.3606e-02,  2.7939e-01,  1.0244e-01],\n                        [-7.3823e-02,  5.8411e-02, -6.5767e-03, -1.9918e-01,  7.3714e-02],\n                        [ 2.5907e-01, -2.4011e-02,  8.8819e-02,  2.4550e-02, -3.3810e-01]],\n              \n                       [[-2.4813e-01,  3.7920e-02, -1.0023e-01,  7.2113e-02,  1.7809e-01],\n                        [ 1.0871e-01,  1.5067e-02,  5.0313e-02, -3.4471e-01, -3.3261e-02],\n                        [-3.6178e-03, -8.9375e-02, -3.6598e-02, -7.8733e-02, -3.6396e-02],\n                        [ 1.3598e-01,  1.6788e-01,  1.3791e-01, -2.7951e-01,  2.7573e-01],\n                        [ 4.2601e-02, -8.3858e-02, -3.5726e-02,  1.0721e-01, -9.8043e-02]],\n              \n                       [[-1.6286e-01, -3.2934e-02,  1.5563e-01,  5.1283e-02, -4.1678e-03],\n                        [ 1.1162e-01, -1.1318e-01, -1.4985e-01,  3.4178e-01,  2.8739e-01],\n                        [-3.5792e-01, -2.4337e-01, -2.4448e-01,  5.1753e-02, -1.6986e-01],\n                        [ 1.2927e-01,  1.3782e-01,  8.9126e-02,  1.2994e-03,  2.0922e-02],\n                        [-1.3229e-01, -1.3747e-01,  2.4973e-01,  1.0487e-01,  2.2893e-01]]],\n              \n              \n                      [[[ 1.9667e-01, -5.1993e-02, -1.5358e-01, -2.0298e-02, -7.8442e-02],\n                        [ 1.1331e-01, -6.4762e-02,  1.1883e-01, -7.2215e-02,  1.3488e-01],\n                        [ 1.0067e-01, -1.0101e-01,  2.8242e-01,  4.1201e-02,  5.1249e-02],\n                        [-1.3834e-01, -4.1209e-02, -1.0305e-01,  2.5604e-01,  9.1787e-02],\n                        [ 1.4800e-01,  5.7409e-02, -1.1010e-01, -2.2364e-01,  2.2881e-02]],\n              \n                       [[-2.3782e-01,  5.4131e-03, -1.9379e-01,  1.7340e-01,  3.7646e-01],\n                        [ 1.2755e-01, -1.8860e-02, -1.3815e-01, -8.4062e-02, -1.8810e-01],\n                        [ 1.4480e-01,  1.0156e-01, -8.6899e-03,  1.5800e-01, -1.1176e-01],\n                        [ 2.1843e-01, -2.5991e-01, -2.4725e-02, -1.1539e-01, -3.4723e-01],\n                        [ 1.9782e-01, -1.2987e-01, -3.2019e-01,  6.0976e-02,  7.5058e-02]],\n              \n                       [[ 8.4340e-02, -1.3105e-01, -4.0215e-01, -1.4849e-02, -1.9163e-01],\n                        [-1.2864e-02,  3.2753e-01, -1.6537e-01, -2.6995e-01, -1.2972e-02],\n                        [-2.8781e-01,  1.0906e-01, -2.0034e-01,  1.3141e-01,  1.2773e-01],\n                        [-2.5097e-01, -1.5352e-01,  5.7198e-05, -1.4109e-01,  9.6286e-02],\n                        [-9.9390e-02, -1.5162e-01, -6.9353e-03,  9.0638e-02,  7.9486e-02]]],\n              \n              \n                      [[[ 1.8411e-02,  1.1157e-01,  1.2910e-01,  9.5461e-02, -5.6575e-02],\n                        [-6.8489e-02,  3.4348e-02,  3.2708e-01,  9.0118e-03, -5.0114e-02],\n                        [-3.2603e-02, -7.1926e-02,  1.6951e-01, -6.5593e-02, -1.1651e-01],\n                        [ 1.0142e-01, -8.6141e-02, -1.0580e-01,  8.6454e-02, -1.6544e-01],\n                        [-5.6501e-02, -1.8854e-02,  4.1991e-02, -1.6578e-01,  2.3281e-01]],\n              \n                       [[ 1.7368e-01, -4.2103e-02,  3.4800e-02, -1.1512e-01, -4.3958e-02],\n                        [-8.3810e-02, -1.5999e-01,  1.3752e-01,  2.3594e-02, -1.5903e-01],\n                        [-1.0786e-01,  4.0954e-02,  1.4744e-01, -8.0529e-03, -7.3119e-02],\n                        [ 1.3759e-01,  1.3257e-02, -3.2173e-01,  1.2226e-01, -1.5336e-01],\n                        [ 2.1692e-01,  6.6417e-02, -1.8791e-02,  6.0859e-03,  1.9608e-01]],\n              \n                       [[-6.2307e-02, -7.4880e-02,  9.6693e-02,  5.0548e-02, -8.0494e-02],\n                        [ 4.5800e-03,  7.0869e-04, -1.5513e-01, -1.1257e-01, -2.4804e-01],\n                        [ 9.5140e-02, -1.2216e-01,  2.1656e-01,  2.6333e-01,  1.2662e-01],\n                        [-1.3499e-01,  3.3776e-02, -1.6621e-01, -2.2027e-01,  1.4794e-01],\n                        [-7.1540e-02, -1.1139e-02,  1.1392e-01, -1.7143e-01, -2.2592e-01]]],\n              \n              \n                      ...,\n              \n              \n                      [[[ 1.4411e-01, -7.3234e-02,  2.7451e-01,  1.4693e-01, -1.4897e-01],\n                        [ 9.5930e-02, -1.0822e-01, -1.3060e-01, -6.9444e-03, -8.3564e-02],\n                        [-3.7312e-02,  1.9839e-01, -3.7860e-01, -2.7804e-02,  2.4418e-01],\n                        [-2.9021e-01,  1.0368e-02, -1.6418e-01, -1.4997e-01, -1.4216e-02],\n                        [ 2.9212e-01, -1.9456e-02, -2.9682e-02,  2.0326e-01, -4.9708e-02]],\n              \n                       [[ 2.8145e-01, -9.0200e-04, -6.1405e-02,  2.1377e-02, -1.3026e-02],\n                        [ 8.1563e-02, -6.0989e-02, -7.7532e-02,  1.1371e-01, -2.4597e-01],\n                        [ 1.1699e-01, -6.4821e-02,  3.8828e-01, -1.2608e-01,  1.6698e-01],\n                        [-2.7799e-01, -9.6589e-02,  1.9119e-01,  2.9793e-01, -1.0389e-01],\n                        [ 1.8120e-02, -2.9280e-01, -6.1286e-02,  1.7061e-01,  1.6325e-01]],\n              \n                       [[ 2.2323e-01,  2.3741e-03, -5.7857e-02, -8.5051e-02,  8.3848e-02],\n                        [-1.0014e-01, -1.1975e-01, -1.1565e-02,  2.5715e-01, -3.0319e-02],\n                        [-2.8438e-02, -1.9835e-01, -2.0238e-01,  2.1955e-01,  1.3254e-02],\n                        [ 5.1586e-02, -1.7304e-02, -1.1816e-01, -4.3177e-01, -2.2723e-02],\n                        [-2.5412e-01, -1.2957e-01,  2.4192e-02,  6.2986e-02, -3.1663e-01]]],\n              \n              \n                      [[[-2.3246e-01,  8.5947e-02,  2.7325e-01,  1.3078e-01,  2.2327e-01],\n                        [ 2.6046e-02,  4.2726e-01, -2.8861e-02,  1.9601e-01, -1.3868e-01],\n                        [ 1.5406e-01, -6.8376e-02,  7.3792e-02,  5.6079e-02,  2.4231e-01],\n                        [ 3.8743e-02,  1.6669e-02,  6.5582e-02, -1.4828e-01, -4.8374e-02],\n                        [ 3.5820e-02, -2.8530e-01,  1.6186e-01, -4.1167e-02,  3.0471e-02]],\n              \n                       [[ 1.2637e-01, -1.2567e-01, -3.0394e-01,  1.2568e-01, -2.0028e-01],\n                        [-1.7927e-02, -1.0885e-03,  1.6481e-01,  1.0675e-01,  3.0465e-01],\n                        [ 1.4949e-01, -1.2469e-01, -4.1705e-02, -9.2680e-02, -4.1549e-03],\n                        [-8.1051e-02, -1.2731e-01,  1.9178e-01,  5.5712e-03,  1.5694e-01],\n                        [ 7.1144e-02, -1.2499e-01,  7.1957e-02,  1.0645e-01,  6.8867e-02]],\n              \n                       [[ 2.1688e-01,  2.4669e-01,  5.4921e-02,  1.8281e-01, -1.0386e-01],\n                        [ 5.5874e-02,  1.2957e-01,  1.2975e-01, -2.9794e-01,  5.8233e-02],\n                        [ 8.3656e-02,  3.0327e-01, -1.4966e-01, -2.0321e-01, -1.9987e-02],\n                        [-1.5004e-01, -1.7265e-01,  1.7247e-01,  5.8302e-02,  1.0350e-01],\n                        [-1.6786e-01, -5.0116e-03,  2.0490e-02, -2.1304e-02,  3.5128e-02]]],\n              \n              \n                      [[[-3.4913e-01, -9.9197e-02,  3.5729e-02, -1.2191e-01,  5.5016e-02],\n                        [ 2.5535e-01,  1.5737e-01,  1.3863e-01, -8.8893e-02,  4.8077e-02],\n                        [-2.8875e-01,  3.3537e-01, -2.7288e-01, -1.8949e-01, -1.6308e-02],\n                        [ 4.0252e-01, -6.2080e-02,  1.4023e-01,  1.8288e-01,  1.6480e-01],\n                        [-9.1325e-02,  1.2753e-01,  1.6245e-01, -9.1530e-04,  2.0153e-03]],\n              \n                       [[-1.1121e-01, -1.2280e-02,  1.0173e-01,  3.3425e-02, -9.3491e-02],\n                        [ 2.0222e-01,  1.0651e-01, -1.7554e-01, -1.8186e-01,  5.2108e-02],\n                        [ 8.5572e-02,  1.2901e-01,  1.1006e-01, -6.0475e-02, -1.0533e-01],\n                        [ 1.0054e-01, -8.9024e-02, -2.6185e-02,  1.8433e-01, -4.2126e-02],\n                        [ 1.7594e-01, -2.3645e-02, -3.1751e-01,  1.7590e-02,  1.1568e-01]],\n              \n                       [[ 1.3297e-02,  5.6266e-02, -3.4724e-01, -5.0913e-02, -1.3286e-01],\n                        [ 2.9458e-01, -8.5075e-02, -1.3324e-01,  1.9471e-02, -4.2831e-02],\n                        [ 3.5527e-01, -2.5822e-01, -1.2754e-01, -6.6626e-02, -1.0040e-02],\n                        [ 3.0587e-02,  2.5563e-01, -3.1437e-02,  2.0560e-01, -2.0779e-01],\n                        [-1.6042e-01, -1.7746e-02, -1.1896e-01,  5.3080e-02, -4.4083e-02]]]],\n                     grad_fn=<ViewBackward0>)),\n             ('conv1.bias',\n              tensor([-0.0435, -0.0671, -0.2526, -0.1642,  0.0118, -0.1135, -0.1478, -0.1333,\n                      -0.0622, -0.2415, -0.0850, -0.0536,  0.0185,  0.0405, -0.1726, -0.0667],\n                     grad_fn=<ViewBackward0>)),\n             ('conv2.weight',\n              tensor([[[[ 2.5467e-01, -4.2512e-02, -6.9489e-02, -9.7304e-02, -5.6113e-02],\n                        [-3.2609e-01,  3.1959e-02,  2.9513e-02, -2.0141e-01, -5.8910e-02],\n                        [ 2.1349e-01,  5.0804e-02, -2.2635e-02,  5.7209e-02, -3.2225e-02],\n                        [-9.1694e-03,  7.1186e-02,  1.9355e-01,  3.3460e-02,  7.9240e-02],\n                        [ 8.6567e-02, -3.8186e-02,  6.4595e-03,  8.6627e-02, -2.6096e-01]],\n              \n                       [[-1.4670e-01, -1.2333e-01,  9.0783e-03, -9.6035e-02,  2.4163e-01],\n                        [-2.3906e-01,  1.0307e-01, -2.9112e-01, -4.0868e-02, -6.2603e-02],\n                        [ 1.4903e-02, -1.6955e-01, -2.5328e-02,  2.2426e-01, -9.8272e-03],\n                        [-1.1344e-03, -1.9276e-01, -5.8667e-02, -3.0623e-01, -1.9527e-01],\n                        [ 2.2260e-01, -5.2671e-02,  2.1624e-01,  2.2784e-01,  1.6184e-03]],\n              \n                       [[-3.0404e-01,  1.1942e-01,  1.1433e-01, -1.0612e-01, -9.3916e-02],\n                        [-1.5958e-01,  4.1920e-03,  7.0848e-02, -1.1602e-01, -1.1154e-02],\n                        [-3.7894e-02,  2.1564e-01, -4.6190e-02,  1.2420e-02, -1.4770e-01],\n                        [ 1.7275e-01,  4.6410e-02, -1.6984e-01, -5.5243e-02, -1.0093e-01],\n                        [ 2.0825e-01,  2.1014e-01,  1.8434e-01,  2.6081e-02, -2.7285e-01]],\n              \n                       ...,\n              \n                       [[-2.4874e-01,  1.9195e-01,  1.4147e-01, -1.3197e-01, -1.8093e-01],\n                        [-6.3121e-02,  2.0196e-03,  2.8456e-02,  1.8181e-01,  2.1844e-01],\n                        [-2.7056e-02, -8.3484e-02,  2.6302e-01,  7.2402e-02,  2.2532e-01],\n                        [-9.1473e-02,  3.6300e-02,  1.8273e-01, -4.6710e-02,  3.0089e-01],\n                        [-1.3364e-02,  4.8194e-01, -7.7283e-02, -1.7376e-01,  4.3219e-01]],\n              \n                       [[-8.6043e-02,  4.2474e-02, -1.9795e-02, -3.1077e-02, -1.0542e-01],\n                        [ 1.2933e-01,  1.5952e-01, -8.9622e-03, -9.4033e-02,  9.5889e-02],\n                        [ 2.0506e-01, -8.5538e-02,  1.5662e-01,  3.4358e-02,  2.8886e-03],\n                        [-2.6347e-01, -9.5488e-02, -2.8146e-01, -2.2339e-01, -1.2619e-02],\n                        [-2.7466e-01,  2.1954e-01,  9.2218e-02,  9.0624e-02, -1.3227e-01]],\n              \n                       [[ 3.7940e-01,  2.9872e-01,  1.5411e-01, -1.1580e-02,  1.5202e-01],\n                        [ 6.3042e-02,  1.2829e-01, -1.3129e-01, -5.3796e-01, -2.3147e-01],\n                        [ 3.4226e-02,  2.0859e-01,  2.1169e-01, -2.3050e-01, -2.3655e-01],\n                        [-6.1933e-02,  2.5434e-02,  3.4409e-01, -1.9364e-01, -1.0126e-01],\n                        [-2.8168e-01, -1.1020e-01, -1.5690e-01, -9.0989e-02,  2.1934e-01]]],\n              \n              \n                      [[[-1.8844e-01,  1.1714e-01,  4.4737e-02, -2.4166e-01, -8.9285e-02],\n                        [-2.1478e-01,  1.8142e-01,  7.4134e-02, -2.6401e-01, -1.7302e-01],\n                        [ 1.3115e-01,  1.2459e-01, -8.8559e-02, -4.7338e-02, -5.6332e-02],\n                        [ 6.5598e-02, -1.1609e-01, -3.6906e-01, -9.6483e-02, -2.0086e-01],\n                        [ 2.5745e-01, -1.8954e-01,  3.9330e-01, -9.7731e-02, -1.6087e-01]],\n              \n                       [[ 2.3892e-01,  2.0467e-02, -5.6798e-02,  2.3750e-01,  6.1925e-02],\n                        [ 2.6811e-01, -1.6209e-01, -4.5618e-01, -1.0719e-01, -5.8579e-02],\n                        [ 4.8419e-02,  5.1075e-02,  4.5212e-02,  1.6424e-01, -6.3984e-02],\n                        [ 1.0220e-02, -1.7964e-01, -6.0316e-02, -3.8252e-02,  9.6155e-02],\n                        [ 2.6679e-01,  4.6276e-02,  1.8514e-01,  9.4225e-02,  4.6589e-02]],\n              \n                       [[-3.7840e-04, -7.6586e-02, -2.4086e-01, -2.5028e-01,  2.7474e-01],\n                        [ 1.2532e-01,  2.0566e-01,  2.1086e-01,  8.0567e-03,  2.3373e-02],\n                        [-1.7577e-01, -4.4228e-02,  2.2478e-02,  9.1879e-02, -1.8161e-01],\n                        [ 2.0271e-01, -1.5299e-01,  1.4831e-01,  1.2902e-01, -7.0602e-02],\n                        [ 3.2187e-02,  2.5223e-01, -2.9483e-01, -1.3189e-01,  8.8503e-02]],\n              \n                       ...,\n              \n                       [[ 1.5894e-01, -1.0246e-01,  3.5839e-02,  1.7098e-01, -7.0415e-02],\n                        [ 8.3625e-02, -4.2828e-02, -7.4883e-02, -2.7048e-02,  2.4737e-01],\n                        [-3.2975e-01,  5.8993e-02,  8.9824e-02, -1.0661e-01, -3.9891e-01],\n                        [-9.4044e-02,  1.8309e-01, -1.4452e-01, -7.1269e-02,  6.3147e-02],\n                        [-1.6017e-01,  6.8930e-02, -1.2695e-01,  1.3844e-01,  2.3198e-01]],\n              \n                       [[-2.0817e-01,  3.3591e-02,  7.0966e-03,  2.3633e-01,  1.7494e-01],\n                        [-7.0251e-02, -5.1693e-02,  3.7749e-02, -1.1078e-01, -1.8410e-02],\n                        [ 1.0945e-02,  2.2178e-02, -2.0837e-01,  1.7404e-02,  2.4288e-01],\n                        [-1.6322e-01, -2.5322e-01,  1.5185e-01,  1.9440e-01, -5.7037e-01],\n                        [-3.3679e-02, -3.6354e-02,  4.1331e-02,  5.4628e-02,  2.5210e-01]],\n              \n                       [[-1.4847e-01,  2.0625e-01, -1.8221e-01,  1.4251e-03,  7.2669e-02],\n                        [ 3.6347e-02, -2.1087e-01, -6.3592e-02, -1.2775e-01, -8.8170e-02],\n                        [-5.2343e-03,  7.4677e-02,  1.6533e-01, -1.1936e-01,  2.4277e-02],\n                        [ 9.3979e-02,  9.2326e-02,  5.0130e-03,  1.1453e-01, -2.6592e-02],\n                        [ 9.6247e-02,  3.0600e-02, -6.7893e-02, -4.6089e-02,  2.8468e-02]]],\n              \n              \n                      [[[ 1.2557e-01, -3.8987e-01, -2.7654e-01, -1.3703e-01,  1.8383e-01],\n                        [ 9.4112e-02, -4.8433e-02,  1.9568e-01, -4.7186e-02, -1.0600e-01],\n                        [-4.8719e-02, -2.4466e-02,  1.3317e-01,  6.1802e-02,  1.5089e-01],\n                        [ 3.1002e-02, -1.6039e-01,  1.0136e-02,  2.3907e-02, -4.2238e-02],\n                        [-8.3425e-02, -1.2306e-01,  2.2412e-01,  1.5671e-01,  1.4394e-01]],\n              \n                       [[ 1.9780e-01,  1.3251e-01, -1.4542e-01,  2.9317e-02, -8.5347e-02],\n                        [ 2.7219e-01,  6.1430e-02, -2.7918e-02,  1.4793e-01,  1.2214e-01],\n                        [ 1.0241e-02, -2.7572e-02,  1.2843e-01,  8.7674e-02, -8.5248e-02],\n                        [-1.2332e-01, -3.4413e-01, -2.3230e-01,  1.3735e-01, -7.8760e-02],\n                        [ 6.8156e-02,  2.3038e-02, -3.2580e-02, -3.1101e-01,  3.2086e-01]],\n              \n                       [[-2.1657e-01,  6.5105e-02, -2.8051e-01, -6.1060e-02, -3.7889e-02],\n                        [ 7.8972e-02, -4.4827e-02, -1.6087e-01,  4.1337e-02, -1.0746e-01],\n                        [-1.4627e-01, -3.0912e-02, -3.5352e-01,  3.2960e-01, -3.2496e-01],\n                        [-5.2355e-02, -1.8608e-01,  2.5597e-01,  9.0392e-02, -8.3836e-02],\n                        [-1.9755e-01, -2.8856e-01, -8.8140e-02,  2.6592e-02,  9.6469e-02]],\n              \n                       ...,\n              \n                       [[-3.4343e-02, -2.1388e-03,  1.7916e-02, -2.3219e-02,  1.5602e-01],\n                        [ 2.6825e-01, -1.8245e-01, -2.0345e-01, -1.5405e-03, -9.5263e-02],\n                        [ 1.7263e-02, -5.3311e-02,  1.6549e-01,  7.5222e-02, -8.4001e-02],\n                        [-6.8142e-03,  9.5059e-02, -1.7364e-01, -1.0513e-01, -2.2793e-01],\n                        [ 1.6215e-01, -1.5634e-01,  2.5097e-02,  1.5422e-01,  6.8932e-02]],\n              \n                       [[-1.7245e-01,  1.6984e-01, -2.9074e-02, -7.1227e-02, -6.2949e-03],\n                        [ 6.9010e-02, -2.1581e-01, -1.7509e-01,  4.7810e-02, -5.4588e-02],\n                        [-1.4458e-01,  1.4027e-01, -3.6255e-01,  4.3980e-02, -1.1414e-01],\n                        [-8.6402e-02, -1.4545e-01, -5.0302e-02, -4.1100e-01, -1.6604e-02],\n                        [-5.1151e-02,  1.2265e-01, -1.5309e-01, -4.1378e-01,  4.2154e-01]],\n              \n                       [[ 5.7304e-02,  1.7330e-01,  1.7162e-01, -2.0656e-01, -1.2730e-01],\n                        [-2.5452e-02,  1.3268e-01,  8.2703e-02,  1.8420e-01,  9.5162e-03],\n                        [ 2.2741e-01,  1.3320e-01, -9.7170e-02, -3.8829e-02,  2.6296e-01],\n                        [ 3.5560e-02,  1.5578e-01,  1.8838e-01, -3.0836e-01,  1.9815e-01],\n                        [ 1.0310e-01,  3.1652e-01,  1.7118e-01, -2.4528e-01,  2.4041e-01]]],\n              \n              \n                      ...,\n              \n              \n                      [[[ 6.8317e-02, -1.3654e-01,  2.7217e-01, -6.7928e-02,  1.5273e-01],\n                        [-6.6180e-03, -1.1829e-02, -4.6711e-02,  9.4534e-02,  9.1657e-02],\n                        [ 1.1213e-02,  1.0886e-01, -2.2181e-01,  1.3136e-01,  1.1857e-01],\n                        [-3.4746e-01,  2.9203e-01,  7.3503e-02, -2.7820e-01,  1.3657e-01],\n                        [-7.5383e-03, -4.7849e-01, -1.2900e-01,  3.4840e-02, -2.1907e-02]],\n              \n                       [[ 1.9563e-01, -4.0240e-02, -6.7105e-02, -1.3525e-03, -1.5766e-01],\n                        [-1.5202e-02, -1.3082e-01,  3.3037e-03, -6.1795e-02, -1.9295e-01],\n                        [-2.5409e-02,  2.0616e-02,  6.6659e-02, -9.3867e-02, -9.1434e-02],\n                        [ 1.2736e-01,  1.2275e-01,  1.2266e-01, -4.7870e-02, -1.4108e-01],\n                        [-4.9643e-02, -1.1732e-01, -5.0155e-02, -7.4218e-02,  1.8731e-01]],\n              \n                       [[ 1.9223e-01,  3.0568e-01, -9.3654e-03,  3.1864e-01, -2.9537e-02],\n                        [-4.2834e-02,  6.9253e-02, -1.7761e-01,  3.4205e-01, -1.7513e-01],\n                        [ 2.7784e-01,  1.6693e-01,  4.9032e-02, -1.3805e-02,  2.0731e-01],\n                        [ 7.0168e-02, -2.7938e-02, -5.0154e-02, -1.4553e-01, -4.8858e-01],\n                        [-1.3598e-01, -5.7955e-02,  1.3426e-01, -3.4552e-02,  1.3283e-01]],\n              \n                       ...,\n              \n                       [[ 1.8063e-01, -2.3901e-02,  1.3188e-01,  1.8738e-01,  7.6572e-02],\n                        [-1.9936e-01,  1.6408e-01, -5.5159e-02,  1.6834e-01,  4.2882e-01],\n                        [-1.9742e-01,  2.2738e-01,  1.8750e-01,  1.6950e-01,  8.9883e-03],\n                        [ 3.1855e-01,  1.5909e-01,  3.3804e-01,  1.4446e-02,  2.5148e-01],\n                        [-2.2980e-01, -1.4150e-01, -2.0000e-01, -1.3384e-02, -1.3604e-01]],\n              \n                       [[-1.5443e-01,  9.2044e-02, -5.7418e-02, -1.0535e-01,  2.7553e-01],\n                        [ 1.2207e-01, -3.2352e-03,  3.4368e-01,  1.9661e-01, -1.6763e-01],\n                        [-1.0556e-01, -9.8368e-02, -4.9817e-02,  8.1005e-02, -1.1985e-01],\n                        [ 1.0889e-01, -1.6196e-01,  4.9393e-02, -8.1076e-02, -2.3571e-01],\n                        [-1.2955e-01,  1.7198e-01,  1.8093e-01,  1.5970e-01,  1.1548e-01]],\n              \n                       [[-7.6360e-02, -3.9309e-01,  3.8078e-01,  1.2069e-01,  2.0309e-01],\n                        [ 2.5443e-01, -2.7888e-01, -1.6476e-01, -1.8838e-01,  1.0684e-01],\n                        [ 3.3057e-01, -1.7475e-02, -3.5232e-03,  1.5425e-01, -3.8339e-02],\n                        [ 2.3014e-01, -5.7936e-02, -1.4294e-01, -1.0930e-03, -5.2490e-02],\n                        [-4.4994e-02, -2.0044e-01,  2.6810e-01,  1.0530e-01, -5.7490e-02]]],\n              \n              \n                      [[[-1.7436e-02, -3.5316e-01, -7.7284e-02,  8.2873e-02,  2.5579e-01],\n                        [ 1.3905e-02,  2.2819e-01, -1.0921e-03, -1.5003e-01,  1.8093e-02],\n                        [ 1.4108e-01, -9.2228e-02, -8.3848e-02,  1.7692e-01,  1.9232e-01],\n                        [ 9.3692e-02,  1.1824e-01,  2.5924e-01,  1.9499e-02,  8.0934e-02],\n                        [ 2.9808e-01, -8.6974e-02, -2.6336e-01, -1.2023e-01,  3.5223e-01]],\n              \n                       [[ 6.6425e-02, -9.5466e-02,  1.1584e-01,  1.2889e-01, -1.3577e-01],\n                        [-8.6709e-02, -6.5062e-03,  2.5047e-03,  1.4755e-01,  2.0275e-01],\n                        [-2.2055e-01,  1.5276e-02,  5.3474e-02,  8.6436e-02, -1.4965e-01],\n                        [ 2.0387e-01, -2.6981e-01, -2.2148e-01,  3.0217e-02, -9.4320e-02],\n                        [ 1.3394e-02,  5.0614e-02,  1.7705e-01, -6.7724e-02, -1.8389e-01]],\n              \n                       [[ 5.4652e-02,  2.1420e-01,  1.0351e-01,  4.1766e-01,  1.0486e-01],\n                        [-4.3341e-02, -1.4568e-01, -1.1735e-01, -6.9469e-02, -1.7827e-01],\n                        [ 2.0897e-02,  5.9097e-02, -1.0612e-01, -1.8880e-01, -1.4597e-01],\n                        [-1.8545e-02, -1.9025e-01,  1.4307e-01,  2.8170e-01,  1.0845e-01],\n                        [ 1.8136e-01, -2.0215e-01,  1.5949e-02, -1.1435e-01,  7.2714e-02]],\n              \n                       ...,\n              \n                       [[-3.4215e-02,  1.9220e-02,  1.6518e-01, -3.2293e-02,  8.9513e-02],\n                        [-1.3463e-01, -2.2644e-01, -1.8441e-01, -3.2661e-01, -4.7574e-02],\n                        [ 6.6120e-02, -4.3238e-02, -2.6713e-01, -1.0505e-01,  7.5747e-02],\n                        [ 2.0545e-01, -6.0692e-02, -1.0551e-01, -4.9450e-02,  9.3770e-02],\n                        [-3.2369e-01, -7.0937e-02, -9.2432e-02, -1.1010e-01,  2.2430e-01]],\n              \n                       [[-1.4968e-01, -2.6628e-05,  2.9402e-02,  3.5135e-01, -2.9340e-01],\n                        [-1.4147e-01, -2.2281e-01, -1.0283e-01, -9.6690e-02,  7.3618e-02],\n                        [ 7.5729e-02,  2.9848e-01, -1.0994e-01, -3.5149e-01, -1.7879e-02],\n                        [ 1.9166e-01,  5.0612e-02,  1.6697e-02, -2.1397e-01,  6.9578e-02],\n                        [ 3.5716e-01, -4.5245e-02,  7.1699e-02, -1.4699e-01, -3.4759e-01]],\n              \n                       [[-3.1753e-01,  1.5669e-02,  3.1589e-02,  4.9037e-02, -9.1903e-03],\n                        [-8.2575e-02, -2.1759e-01, -4.0388e-02,  1.5342e-02,  8.1922e-02],\n                        [ 1.8733e-01,  5.6235e-02, -2.5711e-02,  4.4011e-02,  8.2788e-02],\n                        [-2.8147e-01, -8.5686e-02,  1.1952e-01, -7.3014e-02, -1.0616e-01],\n                        [ 3.2505e-01, -6.7915e-02, -1.0241e-01, -5.9101e-02,  1.5855e-01]]],\n              \n              \n                      [[[-2.6625e-01, -6.3030e-02, -1.7769e-01,  7.1051e-02, -8.8469e-02],\n                        [ 2.2489e-01, -1.2747e-01,  7.9620e-02,  1.4190e-01,  1.7792e-01],\n                        [-2.9985e-01, -1.8395e-01,  8.9558e-02,  2.3899e-01,  7.9616e-02],\n                        [ 1.0616e-01, -1.3072e-01,  2.7204e-01, -1.7663e-01, -1.0455e-01],\n                        [ 2.0384e-01,  7.0304e-02,  3.6398e-02,  1.7593e-01, -8.0581e-02]],\n              \n                       [[-1.0083e-01,  9.7597e-02, -9.9301e-03,  1.0688e-01,  9.2779e-02],\n                        [-7.2992e-02, -1.4984e-02, -3.7349e-01, -8.3177e-02, -2.4475e-01],\n                        [-1.2575e-01,  2.1464e-01, -2.5142e-03,  2.3922e-02, -6.9452e-02],\n                        [ 9.7985e-03,  3.4076e-02,  5.8312e-02, -2.1606e-01,  3.2233e-01],\n                        [ 3.9380e-02,  6.2679e-02, -5.8509e-02, -9.8706e-02, -4.5017e-02]],\n              \n                       [[-3.0016e-02,  5.2702e-02,  3.4460e-02,  1.5953e-01,  1.5157e-01],\n                        [-9.6726e-02, -2.1558e-03,  8.8753e-02, -7.2021e-02,  6.4869e-02],\n                        [ 4.0369e-02,  8.5946e-02,  2.6777e-02,  1.9849e-01, -8.2920e-02],\n                        [ 2.1012e-01, -3.6517e-02,  5.0366e-02, -6.3404e-02,  1.0160e-01],\n                        [-2.5914e-01, -1.0735e-01, -1.9492e-01,  1.1199e-01,  3.4011e-02]],\n              \n                       ...,\n              \n                       [[-2.0203e-01,  3.3493e-02,  9.3457e-02,  1.3117e-01,  6.4661e-02],\n                        [ 8.0766e-02, -1.8065e-01,  2.6623e-01,  2.3050e-02,  6.2275e-02],\n                        [ 2.3968e-01,  1.6654e-01,  3.1177e-02, -1.0335e-01,  8.1722e-02],\n                        [ 2.0780e-01,  1.3857e-01,  2.1512e-01, -1.5340e-01,  9.2001e-02],\n                        [ 1.8211e-01,  1.0356e-01,  2.5953e-01, -3.5707e-01, -7.3266e-02]],\n              \n                       [[-2.5352e-01,  7.8180e-02, -1.1135e-01,  3.2348e-01, -3.7735e-02],\n                        [-2.0936e-01, -1.8070e-01,  1.6890e-01, -5.1126e-01, -2.5158e-01],\n                        [-3.8563e-02, -8.9426e-02,  1.5875e-01,  1.7951e-01, -1.0164e-01],\n                        [ 2.2839e-01, -1.5850e-03,  8.7445e-02, -6.9165e-02, -1.6838e-01],\n                        [-6.1306e-02, -5.6753e-02, -5.0599e-03,  2.1753e-02,  5.0706e-02]],\n              \n                       [[-8.8944e-02,  7.7394e-03,  1.2792e-01, -1.0384e-01, -9.8884e-02],\n                        [-3.3267e-01, -1.4854e-01,  1.4340e-01, -3.4835e-03,  2.3534e-01],\n                        [ 3.8300e-02,  2.6067e-02,  5.8073e-02,  1.9348e-01, -1.2396e-01],\n                        [ 3.0775e-02, -1.4419e-01,  1.4492e-01, -1.0420e-01,  9.0599e-02],\n                        [ 1.7546e-02, -1.9418e-01, -2.8528e-02, -1.8576e-02, -8.9405e-02]]]],\n                     grad_fn=<ViewBackward0>)),\n             ('conv2.bias',\n              tensor([-0.0335, -0.1326, -0.0006,  0.1150,  0.1220,  0.0802,  0.2853,  0.0018,\n                      -0.1549,  0.0946,  0.0937, -0.0645,  0.1120,  0.1877,  0.3110,  0.3423,\n                       0.0525,  0.2470,  0.1330,  0.1063,  0.0467, -0.0006,  0.1400, -0.0465,\n                      -0.2414, -0.3246, -0.0740, -0.1310, -0.1680, -0.0837, -0.0903, -0.2762],\n                     grad_fn=<ViewBackward0>)),\n             ('fc1.weight',\n              tensor([[-0.1378, -0.0056, -0.2475,  ..., -0.0073, -0.1145,  0.2108],\n                      [-0.0191, -0.3273,  0.0808,  ..., -0.0309, -0.1676, -0.0263],\n                      [-0.1172,  0.0990,  0.0257,  ..., -0.0604,  0.0893, -0.2127],\n                      ...,\n                      [-0.2468, -0.1087,  0.0427,  ...,  0.1396,  0.0110,  0.0325],\n                      [-0.1339,  0.0640, -0.0738,  ..., -0.0250,  0.1253, -0.0004],\n                      [ 0.0039,  0.0193, -0.0498,  ...,  0.0249, -0.2159, -0.3069]],\n                     grad_fn=<ViewBackward0>)),\n             ('fc1.bias',\n              tensor([-0.0370, -0.1297, -0.0398, -0.2257, -0.0690, -0.0855, -0.3738, -0.0836,\n                       0.0518, -0.2517,  0.0263,  0.1887,  0.1564,  0.3358, -0.0364, -0.1219,\n                       0.0708, -0.2660, -0.3707,  0.0309,  0.1130, -0.1746, -0.1395, -0.0814,\n                      -0.1580, -0.0738,  0.1592, -0.0051, -0.0495, -0.0975, -0.2208,  0.2226,\n                      -0.2568, -0.2051,  0.1244, -0.1402, -0.0881,  0.0995,  0.1870, -0.1068,\n                       0.4111, -0.0521,  0.2569, -0.1281,  0.0790,  0.0684, -0.0547, -0.1307,\n                      -0.3880,  0.2391,  0.1606, -0.0223,  0.0728, -0.0412,  0.1683,  0.0937,\n                       0.2176, -0.2081, -0.1448,  0.0733,  0.1413, -0.0839,  0.0265,  0.0751,\n                      -0.0110, -0.0653, -0.2493,  0.1194,  0.2264, -0.0048, -0.1201,  0.1626,\n                       0.1191,  0.1896, -0.2463,  0.1399,  0.0393, -0.0789, -0.0875, -0.1926,\n                      -0.0646, -0.0306, -0.0268,  0.1644,  0.0472, -0.2227, -0.2486,  0.1970,\n                       0.1259, -0.1150, -0.0493, -0.0313, -0.0029, -0.0140, -0.3181,  0.1145,\n                       0.2740, -0.2026, -0.4065, -0.0673, -0.0028,  0.0275, -0.2308, -0.3515,\n                       0.0393,  0.0131, -0.0713,  0.0570,  0.1609,  0.2697, -0.0399, -0.1802,\n                      -0.0118,  0.3428, -0.0425, -0.1326,  0.1973,  0.0134,  0.0337, -0.0740],\n                     grad_fn=<ViewBackward0>)),\n             ('fc2.weight',\n              tensor([[-0.1581, -0.0698, -0.1863,  ..., -0.0037,  0.2220,  0.0371],\n                      [ 0.1992,  0.2120, -0.1083,  ..., -0.1388,  0.0061, -0.1675],\n                      [-0.1115,  0.0939,  0.1060,  ..., -0.0725,  0.2609,  0.3745],\n                      ...,\n                      [-0.1019,  0.0058, -0.0469,  ...,  0.0962,  0.1378,  0.2010],\n                      [-0.0144,  0.0674,  0.1412,  ...,  0.0925,  0.1026,  0.1429],\n                      [ 0.0625, -0.0923,  0.2482,  ...,  0.2286,  0.3362,  0.1879]],\n                     grad_fn=<ViewBackward0>)),\n             ('fc2.bias',\n              tensor([-2.8699e-01,  6.5358e-02, -2.1435e-02, -4.8069e-02, -1.7107e-01,\n                      -1.2205e-01,  3.0101e-01, -1.5043e-01,  1.1820e-01,  1.1182e-01,\n                      -1.0084e-01, -1.5729e-01, -4.9803e-02, -1.0744e-01, -7.3156e-02,\n                       2.6022e-01,  4.5415e-02,  1.9094e-01,  3.5586e-02, -1.5431e-01,\n                       1.3385e-01,  1.5957e-01,  4.4223e-01, -1.9290e-01, -1.2719e-01,\n                      -7.2045e-02,  9.6187e-02, -2.7259e-01,  5.2954e-02,  4.8811e-02,\n                      -3.3723e-03,  4.3139e-02,  1.1632e-01, -1.9560e-01,  4.9081e-02,\n                      -2.1218e-02,  1.5056e-01, -4.6555e-01,  9.9611e-04, -3.6350e-01,\n                       5.4419e-02,  1.6846e-01,  2.2650e-01, -1.8377e-01,  5.0937e-02,\n                       1.6255e-01,  1.9497e-02,  1.4291e-01,  6.8518e-02,  1.0551e-01,\n                       2.5804e-02,  1.8336e-01, -2.5064e-04, -2.6706e-01,  1.0741e-01,\n                      -9.3779e-02,  1.9964e-01,  2.0277e-01, -6.5361e-03, -1.5059e-01,\n                       9.8524e-02, -5.5884e-02,  4.9772e-02, -1.2449e-01, -9.1139e-03,\n                       1.1899e-01, -3.0831e-02,  1.3401e-01, -2.6719e-01, -1.1480e-01,\n                       1.5846e-01, -2.0983e-01,  2.6708e-02,  1.1846e-01,  7.3486e-02,\n                       2.1184e-01, -1.5867e-01, -1.3895e-01, -3.2392e-01,  9.9279e-02,\n                      -9.9369e-02,  8.2013e-02, -1.7245e-01,  3.9147e-02],\n                     grad_fn=<ViewBackward0>)),\n             ('fc3.weight',\n              tensor([[ 3.6103e-01,  4.1519e-03, -3.0089e-02, -1.9755e-02, -1.7996e-01,\n                        8.8997e-02, -1.5273e-01, -1.6146e-01,  2.1524e-01,  8.2134e-02,\n                        6.7393e-02,  1.7409e-01,  1.1736e-01,  1.3965e-01,  2.2956e-01,\n                        4.4036e-03,  2.6605e-01, -7.3721e-02, -1.8342e-01, -2.2183e-01,\n                       -5.9717e-02,  9.5642e-02, -1.3625e-01,  1.3662e-02, -1.9489e-01,\n                        2.1094e-01,  4.4735e-02,  2.1792e-01, -1.7936e-01,  2.5808e-01,\n                        2.7739e-01, -5.5652e-02,  5.3092e-02, -4.7684e-02,  4.8904e-02,\n                        1.8617e-01, -2.0385e-01,  8.7426e-02, -2.0386e-01,  6.3236e-02,\n                       -5.6690e-02,  6.9813e-02,  9.7467e-02, -1.2486e-01, -2.8834e-01,\n                       -3.3598e-01, -2.8072e-02, -9.0971e-02,  2.3992e-01, -1.8808e-01,\n                        9.9268e-02, -8.1703e-04,  2.3391e-01,  1.2903e-01,  1.0692e-02,\n                        5.8314e-02, -2.1627e-01, -1.7647e-01, -1.4691e-01, -2.5981e-01,\n                        2.5970e-03, -5.3102e-02, -1.2893e-01, -1.2869e-01, -2.8852e-01,\n                       -9.2186e-02, -4.8674e-02,  8.6147e-02,  7.7301e-02,  1.8511e-01,\n                        1.7976e-04,  3.1991e-01,  1.0099e-01,  2.2978e-02,  1.3399e-02,\n                        1.6991e-02,  2.8497e-02, -1.6297e-01, -1.7270e-01, -5.4130e-02,\n                       -7.9213e-02,  4.7956e-03,  2.1584e-01,  9.8467e-04],\n                      [ 5.7993e-02,  3.5237e-02, -8.1005e-02, -1.3675e-01, -2.0688e-01,\n                        3.7590e-02, -4.6849e-02,  5.9048e-02, -1.3135e-01, -1.5318e-01,\n                       -2.5896e-01, -2.4615e-01,  2.1607e-01,  1.0427e-01, -7.3332e-02,\n                       -4.6902e-02, -1.2185e-01, -1.2829e-01, -4.1090e-02,  4.9543e-02,\n                        1.3379e-01,  5.4012e-02,  1.0103e-01, -2.9028e-01,  3.0386e-01,\n                        3.1402e-01, -1.5695e-01, -1.6759e-01, -1.5524e-01, -9.3188e-02,\n                        2.1761e-01, -1.6825e-02,  1.1082e-01, -1.1520e-01,  1.7080e-01,\n                        3.0162e-02,  1.3584e-01,  2.5340e-02,  1.3099e-01,  1.7893e-01,\n                       -4.1724e-03, -7.9272e-02, -1.3972e-01,  2.4018e-02,  4.7747e-02,\n                       -2.6147e-02,  3.9770e-02, -4.5826e-02, -5.7896e-02,  1.3723e-01,\n                       -1.9029e-01,  1.8642e-01, -4.5621e-02,  7.2123e-02, -4.3828e-01,\n                        3.3686e-01, -1.3724e-01, -5.4383e-02,  2.5940e-01,  5.9591e-03,\n                        1.2072e-01, -3.4235e-02,  2.4479e-01, -8.3594e-02, -7.3792e-02,\n                        5.5984e-02,  9.4691e-02, -1.9319e-01,  5.3448e-02,  1.7109e-01,\n                       -3.4220e-01,  6.5210e-02,  1.2908e-01,  3.5113e-01,  4.1081e-01,\n                        2.3405e-01,  6.2026e-02, -6.2191e-02, -8.0811e-02, -4.7456e-02,\n                       -5.5437e-02, -5.2572e-02,  2.5293e-01, -1.7351e-01],\n                      [-2.8237e-01,  1.6716e-01,  3.3587e-02, -2.6505e-02,  1.8207e-01,\n                       -2.2073e-01,  1.1738e-01, -1.2769e-01,  3.6774e-02, -1.0509e-01,\n                       -8.1622e-02, -1.1283e-01,  1.9232e-01,  6.2736e-02, -2.0382e-01,\n                        2.5084e-01,  3.7675e-02,  7.3244e-02,  1.5930e-02,  1.4652e-01,\n                        1.1462e-01,  9.2164e-02,  6.0613e-02,  2.4228e-02, -8.7672e-02,\n                        6.8866e-02, -1.4093e-02,  7.4426e-02, -1.3109e-01, -5.7462e-02,\n                        4.3255e-03, -5.7581e-02, -3.2956e-02,  1.2080e-01,  1.4883e-01,\n                        1.4642e-01,  1.5902e-01,  1.2367e-01, -1.2428e-02,  1.4475e-01,\n                        4.6269e-02,  2.0155e-01, -8.1804e-02,  7.3311e-02,  1.7904e-01,\n                        1.2642e-01, -9.0729e-02,  9.7980e-02, -1.1312e-01,  1.7886e-01,\n                       -4.6522e-02,  2.5424e-02, -2.1935e-01,  7.3384e-02,  2.3692e-01,\n                       -2.9074e-02, -8.7207e-02, -2.9869e-01, -2.3906e-01, -2.5724e-01,\n                        1.2158e-01,  2.3099e-01,  1.0532e-01, -2.0402e-01,  2.6821e-01,\n                        1.0973e-01, -1.0534e-01, -5.3205e-02, -8.7431e-03,  2.5360e-01,\n                       -1.0233e-01, -1.8956e-01, -1.1308e-01,  1.6805e-01,  1.1530e-01,\n                       -9.7566e-02,  1.1500e-01,  1.7396e-01, -7.0391e-02, -1.0164e-01,\n                       -1.0585e-02, -2.9725e-01,  1.3705e-01, -7.0721e-02],\n                      [-3.9901e-02,  1.9718e-01,  1.2988e-01, -2.1707e-01,  7.1697e-02,\n                        1.0307e-02, -4.6240e-02,  1.5322e-01,  5.7365e-02,  9.8706e-02,\n                        1.5074e-01,  6.9065e-02, -2.0236e-01,  1.4998e-01,  1.9633e-01,\n                       -2.6049e-01,  4.6504e-03,  1.5613e-01, -2.3317e-01,  8.7646e-02,\n                       -1.3691e-01, -1.1061e-01, -1.2387e-01, -1.4821e-01, -2.4693e-03,\n                        6.2671e-02, -8.5746e-02, -6.4958e-02, -4.7445e-02, -1.2243e-01,\n                       -1.5091e-01, -6.9921e-02, -4.1188e-02,  3.4251e-01, -1.4956e-01,\n                       -9.5088e-02, -1.1032e-01,  1.5478e-02,  3.9307e-02,  4.6890e-02,\n                        3.1127e-01,  5.6161e-02, -1.9199e-01, -6.2037e-02,  3.2280e-02,\n                       -1.0434e-01,  1.7926e-01,  1.3572e-01, -8.3262e-03,  2.7600e-01,\n                       -2.0008e-01,  4.1584e-01, -1.7989e-01,  4.5344e-02, -3.2676e-01,\n                       -2.8663e-02, -3.3729e-02, -8.2622e-02, -4.4263e-02, -8.5279e-02,\n                       -1.5444e-01,  1.9732e-01, -2.3404e-01, -2.4561e-01,  2.0224e-01,\n                       -1.3253e-01, -1.6846e-01,  2.7714e-01, -3.0933e-02, -1.9422e-01,\n                       -2.4548e-01, -1.8377e-01, -1.8001e-01, -1.8341e-01,  2.8416e-01,\n                        6.4604e-02, -3.1022e-03, -1.4489e-01, -1.4742e-01,  8.2207e-02,\n                       -3.5608e-01,  1.5335e-01, -1.1620e-01,  3.8502e-02],\n                      [-2.2300e-01, -2.1581e-01, -6.7794e-02, -1.6888e-01,  1.0671e-01,\n                       -4.8842e-02, -6.5749e-03, -3.4319e-02, -1.4724e-01,  1.8261e-01,\n                       -1.0675e-01, -1.5223e-01,  3.3979e-01,  1.3581e-01,  1.8873e-01,\n                        2.4336e-01,  1.9455e-01, -2.1549e-02,  1.8147e-01, -4.9260e-02,\n                        2.0465e-01,  3.7477e-01, -4.6022e-02,  3.7987e-01,  2.5689e-01,\n                        2.5990e-01,  2.9535e-02, -5.2604e-03, -3.8662e-02,  2.5625e-01,\n                        4.1118e-02, -3.4137e-02,  2.3610e-01,  2.1247e-01,  3.8635e-04,\n                       -1.0016e-01,  2.4463e-01,  2.6428e-01, -4.6098e-02,  2.2255e-01,\n                       -4.4695e-02, -8.9052e-02,  8.6841e-02, -1.7001e-01,  5.9420e-02,\n                       -4.3121e-02, -1.7279e-01,  2.7757e-01, -4.3796e-03, -2.3421e-02,\n                        2.6440e-01, -1.2005e-01,  2.4168e-01, -2.0436e-01,  3.3197e-02,\n                       -5.7834e-02, -7.5719e-03,  1.9555e-01,  1.3788e-01, -1.0896e-02,\n                       -1.4714e-01, -1.2351e-02,  2.0818e-02, -1.4831e-01, -2.8404e-01,\n                       -1.5004e-01,  1.6763e-01,  8.3591e-02, -2.3181e-01, -1.5798e-01,\n                       -5.3416e-02, -1.1472e-01,  2.0055e-01, -1.9033e-01, -1.3381e-01,\n                        3.6476e-02,  1.4521e-02, -2.0873e-01,  2.9475e-01,  2.9865e-01,\n                       -2.8351e-02, -1.0182e-01, -3.0347e-01, -9.7095e-03],\n                      [-3.6049e-02, -1.1135e-01,  1.1898e-01, -3.1136e-01, -1.1394e-01,\n                        2.1288e-01, -2.3051e-01, -1.6048e-01,  3.6677e-03, -2.8472e-02,\n                        2.2705e-02, -3.0051e-02, -4.7754e-02, -2.9447e-01, -1.6199e-01,\n                       -5.0701e-02,  6.3246e-02, -4.3739e-01, -5.2371e-01, -3.2474e-02,\n                       -1.2554e-02, -2.8510e-01, -2.4003e-03, -3.7102e-01,  1.5362e-01,\n                        2.6630e-01,  7.4945e-02,  4.1391e-01, -9.3617e-03,  2.1637e-03,\n                       -1.1277e-01,  1.5811e-01,  6.5619e-02, -5.1391e-02, -3.3779e-01,\n                        1.0330e-01,  1.8929e-01, -9.9262e-02,  1.3332e-01,  3.7801e-02,\n                       -7.6118e-03,  1.8243e-01,  3.1221e-02, -1.8405e-01,  1.1321e-01,\n                       -2.1067e-02, -8.6178e-02,  5.0421e-02,  7.9304e-02, -1.2357e-01,\n                       -7.4722e-03,  5.6272e-01, -6.3504e-02, -2.3074e-01, -9.0476e-02,\n                        5.4471e-02, -2.1791e-01,  3.1147e-02, -2.7948e-01,  6.0685e-02,\n                       -3.3490e-01, -1.5687e-01,  2.7636e-01, -3.1428e-02, -4.9329e-03,\n                       -2.0018e-01, -8.8625e-02,  2.5688e-01, -3.7694e-01, -7.9015e-02,\n                        1.1588e-01, -1.8639e-01, -1.6857e-03,  2.3082e-01, -7.0298e-02,\n                        2.0512e-01,  2.2079e-01,  2.7299e-02,  1.1167e-01,  2.8339e-01,\n                        9.3236e-02,  3.1116e-01,  8.4315e-02, -5.2062e-02],\n                      [-2.0319e-01, -2.0266e-02,  2.5910e-01, -2.3579e-01, -9.1621e-02,\n                        7.5453e-02,  1.3930e-01, -1.5459e-02, -2.9669e-01, -1.5096e-01,\n                       -1.0390e-01,  1.4850e-01, -2.3530e-01,  6.2539e-02,  9.6012e-02,\n                        1.0213e-01, -1.5112e-01, -1.6021e-02,  1.2297e-01,  3.5444e-01,\n                        7.5206e-02, -8.7439e-03, -4.9628e-02,  2.2729e-01,  9.9016e-02,\n                       -7.7554e-02,  1.7385e-01, -3.5822e-02, -4.4649e-02,  6.7531e-02,\n                        1.2300e-01, -3.3263e-01, -2.3843e-01, -2.4618e-01,  1.6303e-01,\n                        1.6365e-01, -2.1908e-01, -1.1081e-01,  3.2164e-01,  5.4476e-02,\n                        7.0932e-02,  1.2309e-01,  2.3735e-01,  1.2163e-01, -1.2070e-01,\n                        2.7517e-01, -1.2827e-01, -1.3709e-01,  2.3435e-01,  9.1282e-02,\n                       -2.1766e-02, -1.0955e-01,  7.4867e-02, -3.2816e-01, -1.3420e-01,\n                        2.4745e-01, -4.2067e-02,  2.1373e-01, -1.6670e-01, -3.6833e-01,\n                        1.5481e-01, -8.3968e-03,  4.3230e-02, -1.2055e-01,  1.0455e-01,\n                        1.8173e-01, -1.3961e-01, -1.6753e-01,  1.4330e-01,  9.4092e-02,\n                       -2.6628e-02, -4.2539e-02, -1.9630e-01,  1.2827e-01, -1.1918e-01,\n                        6.4594e-02,  1.3311e-01,  4.7238e-02, -1.9581e-01,  2.3720e-01,\n                       -1.0158e-01,  2.3019e-01,  2.2761e-01, -8.6859e-02],\n                      [-4.1351e-01, -1.5024e-02, -2.6890e-01,  3.8309e-02,  5.7322e-02,\n                       -8.4521e-02,  9.3860e-02, -1.2649e-01,  1.4652e-01, -2.1303e-01,\n                       -1.2507e-01, -9.8671e-02,  3.7019e-02,  1.2490e-01, -2.3455e-01,\n                        2.5850e-01,  7.1906e-02,  2.2518e-01,  1.0609e-01, -2.5638e-01,\n                        6.6289e-02, -7.9985e-03, -6.9625e-02,  6.0446e-02, -2.5817e-02,\n                        1.1419e-01,  7.9006e-02, -1.9429e-01,  3.5262e-02, -4.4587e-02,\n                        9.0529e-03, -5.2422e-02, -1.6460e-01,  2.2572e-02, -4.5638e-02,\n                       -1.1993e-01, -5.0960e-01, -2.5270e-01,  4.1124e-02,  1.1629e-01,\n                        7.4692e-03,  5.3727e-02, -6.1002e-02,  8.9862e-02, -2.8762e-01,\n                       -2.2898e-01, -1.9447e-01, -6.9326e-02, -1.6721e-01, -1.9865e-01,\n                        1.9295e-02, -2.7013e-02,  5.9335e-02,  8.9467e-02, -4.8294e-02,\n                        2.1737e-02,  8.5396e-02,  1.1085e-01, -6.3693e-02, -1.7252e-02,\n                        3.1844e-02, -2.2090e-01, -2.0433e-01,  3.8573e-02,  6.8020e-02,\n                       -2.0949e-01,  1.2926e-01,  7.2930e-02, -1.9398e-01,  7.0606e-02,\n                        5.2786e-02,  1.9740e-02, -1.6066e-02,  1.4767e-01,  6.9443e-02,\n                        9.0968e-02,  1.0351e-01,  2.2810e-01,  4.3143e-01,  9.0349e-03,\n                        7.5912e-02, -2.3705e-01, -1.0570e-03,  1.3581e-01],\n                      [-2.4049e-01, -1.9382e-02,  3.4299e-02,  4.9441e-02, -1.8726e-01,\n                        7.8071e-02, -1.3150e-01,  1.9577e-01,  3.2465e-02, -5.1338e-02,\n                        1.4994e-01,  1.6585e-01, -1.8762e-01, -1.8436e-01, -1.3562e-01,\n                        1.0603e-01,  2.3895e-01,  7.5376e-02,  4.6856e-02, -1.6475e-02,\n                       -1.0974e-01,  1.3716e-02,  3.5830e-03,  5.5514e-02, -2.1862e-01,\n                       -4.1040e-02, -1.5525e-01, -2.8672e-02,  1.1813e-01, -5.8775e-04,\n                       -6.2096e-02,  5.0898e-02,  1.8739e-01, -6.9351e-02,  1.5233e-01,\n                       -1.5468e-01,  7.0757e-02, -1.3789e-02,  2.4131e-01,  2.6446e-02,\n                        8.0968e-02, -5.6107e-02,  2.9988e-02,  6.8721e-02, -3.4250e-02,\n                       -1.9332e-01,  1.5971e-01, -9.2553e-02, -1.2655e-01, -3.4788e-02,\n                       -1.1077e-01, -2.0592e-01,  1.3947e-01,  1.8543e-01, -3.5590e-02,\n                        1.3842e-01,  1.3764e-01,  9.7723e-02, -2.8806e-01,  1.2320e-02,\n                       -4.2010e-01, -1.2606e-01,  1.1769e-01,  2.0468e-01,  5.1158e-02,\n                       -5.7737e-02, -8.9575e-02,  1.7285e-03,  1.1753e-01, -1.1502e-01,\n                       -1.2191e-01,  2.5013e-01, -7.3065e-02, -1.0823e-01, -1.5701e-01,\n                       -1.0449e-02, -9.8494e-02,  8.5300e-02, -1.4018e-01,  3.5062e-02,\n                       -8.0692e-02,  9.3120e-03, -6.8067e-02,  5.5309e-02],\n                      [-2.2823e-01,  3.9661e-03,  8.1437e-02, -1.2796e-01,  7.7689e-02,\n                       -6.2256e-02, -1.1803e-01, -2.4552e-01, -1.3833e-02, -1.4376e-01,\n                        6.4938e-02,  3.3417e-01, -1.2335e-01, -6.4400e-02, -2.6086e-01,\n                        5.7080e-02,  2.6206e-02, -3.0676e-02, -1.9734e-01, -2.3105e-01,\n                        1.6290e-01, -4.8084e-01,  1.7319e-01,  1.0113e-01,  6.8710e-02,\n                       -9.3935e-02,  2.7229e-02, -1.3492e-01, -9.1820e-02,  4.2777e-02,\n                        6.5144e-02,  2.8735e-02,  1.9840e-01, -3.1073e-01, -1.1407e-01,\n                       -1.7465e-01,  2.0618e-01,  1.0955e-01, -1.3846e-01, -5.0310e-03,\n                        4.9019e-01, -3.1194e-02,  6.1298e-02,  2.5802e-01, -3.2536e-02,\n                       -1.0196e-01, -1.8565e-01,  3.1201e-02, -1.4772e-01, -4.3677e-02,\n                        2.9583e-01,  2.8519e-01,  4.9889e-02,  1.7137e-01,  2.5663e-01,\n                       -1.7145e-01, -1.9142e-01,  2.0388e-01, -1.6107e-01, -2.3219e-01,\n                       -2.0942e-01,  5.5833e-02, -5.2661e-03, -1.5407e-01,  4.8261e-02,\n                        5.9500e-02, -4.9015e-02,  6.0974e-03, -4.2011e-02,  8.1983e-02,\n                        5.4278e-02, -1.2280e-01, -9.8326e-02,  1.6229e-01,  3.0204e-01,\n                       -1.2740e-01, -7.2775e-02,  1.3889e-01,  1.7331e-01, -2.2350e-01,\n                       -6.1832e-02, -1.1697e-01, -9.3655e-02, -1.5971e-01]],\n                     grad_fn=<ViewBackward0>)),\n             ('fc3.bias',\n              tensor([ 0.1230, -0.0641, -0.2118,  0.2418, -0.2097,  0.3006, -0.1371, -0.1057,\n                      -0.0563,  0.2076], grad_fn=<ViewBackward0>))])"
     },
     "execution_count": 137,
     "metadata": {},
     "output_type": "execute_result"
    }
   ],
   "source": [
    "net.load_state_dict(weights)\n",
    "weights"
   ],
   "metadata": {
    "collapsed": false
   }
  },
  {
   "cell_type": "code",
   "execution_count": 136,
   "outputs": [
    {
     "data": {
      "text/plain": "torch.Size([128, 128])"
     },
     "execution_count": 136,
     "metadata": {},
     "output_type": "execute_result"
    }
   ],
   "source": [
    "net_stat = tran.state_dict()\n",
    "net_stat['encoder.attn_layers.2.attention.out_projection.weight'].shape"
   ],
   "metadata": {
    "collapsed": false
   }
  },
  {
   "cell_type": "code",
   "execution_count": 149,
   "outputs": [
    {
     "name": "stdout",
     "output_type": "stream",
     "text": [
      "torch.Size([1, 10])\n",
      "torch.Size([1, 128])\n"
     ]
    },
    {
     "data": {
      "text/plain": "tensor([[ 0.1520, -0.0317, -0.2242,  ..., -0.0435,  0.0419, -0.1446],\n        [ 0.1454, -0.0201, -0.0644,  ...,  0.0057,  0.0147, -0.1237],\n        [-0.1787,  0.1632, -0.0003,  ...,  0.0698,  0.0187, -0.1029],\n        ...,\n        [ 0.0246, -0.0194,  0.0339,  ..., -0.0164, -0.0685,  0.0913],\n        [-0.0593,  0.1192,  0.0149,  ...,  0.0051, -0.2329, -0.0383],\n        [-0.0648, -0.0676,  0.0345,  ..., -0.0263,  0.0120,  0.0586]],\n       grad_fn=<SelectBackward0>)"
     },
     "execution_count": 149,
     "metadata": {},
     "output_type": "execute_result"
    }
   ],
   "source": [
    "hnet = ViTHyper(n_nodes=50, embedding_dim=10, hidden_dim=128, dim=128, client_sample=1, depth=3)\n",
    "tran = Transformer(enc_in=33, c_out=33)\n",
    "input = torch.rand((128, 12, 33))\n",
    "output, attns = tran(input)\n",
    "weights = hnet(torch.tensor([node_id], dtype=torch.long),False)\n",
    "weights[0]['transformer.layers.0.0.fn.to_qkv.weight']\n",
    "# print(hnet, tran)\n",
    "# for param_tensor in hnet.state_dict():\n",
    "#     print(param_tensor, \"\\t\", hnet.state_dict()[param_tensor].size())\n"
   ],
   "metadata": {
    "collapsed": false
   }
  },
  {
   "cell_type": "code",
   "execution_count": 154,
   "outputs": [
    {
     "data": {
      "text/plain": "<All keys matched successfully>"
     },
     "execution_count": 154,
     "metadata": {},
     "output_type": "execute_result"
    }
   ],
   "source": [
    "tranformer_stat = tran.state_dict()\n",
    "tranformer_stat['encoder.attn_layers.0.attention.query_projection.weight'] = weights[0]['transformer.layers.0.0.fn.to_qkv.weight']\n",
    "tran.load_state_dict(tranformer_stat)"
   ],
   "metadata": {
    "collapsed": false
   }
  },
  {
   "cell_type": "markdown",
   "source": [],
   "metadata": {
    "collapsed": false
   }
  },
  {
   "cell_type": "code",
   "execution_count": 155,
   "outputs": [
    {
     "ename": "NameError",
     "evalue": "name 'partition_data' is not defined",
     "output_type": "error",
     "traceback": [
      "\u001B[1;31m---------------------------------------------------------------------------\u001B[0m",
      "\u001B[1;31mNameError\u001B[0m                                 Traceback (most recent call last)",
      "Cell \u001B[1;32mIn [155], line 1\u001B[0m\n\u001B[1;32m----> 1\u001B[0m X_train, y_train, X_test, y_test, net_dataidx_map, traindata_cls_counts \u001B[38;5;241m=\u001B[39m \u001B[43mpartition_data\u001B[49m(\n\u001B[0;32m      2\u001B[0m         dataset \u001B[38;5;241m=\u001B[39m \u001B[38;5;124m'\u001B[39m\u001B[38;5;124mpsm\u001B[39m\u001B[38;5;124m'\u001B[39m,\n\u001B[0;32m      3\u001B[0m         datadir \u001B[38;5;241m=\u001B[39m \u001B[38;5;124m\"\u001B[39m\u001B[38;5;124m../data\u001B[39m\u001B[38;5;124m\"\u001B[39m,\n\u001B[0;32m      4\u001B[0m         partition \u001B[38;5;241m=\u001B[39m \u001B[38;5;124m\"\u001B[39m\u001B[38;5;124mnoniid\u001B[39m\u001B[38;5;124m\"\u001B[39m,\n\u001B[0;32m      5\u001B[0m         n_parties \u001B[38;5;241m=\u001B[39m \u001B[38;5;241m10\u001B[39m\n\u001B[0;32m      6\u001B[0m     )\n",
      "\u001B[1;31mNameError\u001B[0m: name 'partition_data' is not defined"
     ]
    }
   ],
   "source": [
    "X_train, y_train, X_test, y_test, net_dataidx_map, traindata_cls_counts = partition_data(\n",
    "        dataset = 'psm',\n",
    "        datadir = \"../data\",\n",
    "        partition = \"noniid\",\n",
    "        n_parties = 10\n",
    "    )"
   ],
   "metadata": {
    "collapsed": false
   }
  },
  {
   "cell_type": "code",
   "execution_count": null,
   "outputs": [],
   "source": [],
   "metadata": {
    "collapsed": false
   }
  },
  {
   "cell_type": "code",
   "execution_count": 1,
   "outputs": [
    {
     "name": "stdout",
     "output_type": "stream",
     "text": [
      "C:\\Users\\Hjf\\.matplotlib\n"
     ]
    }
   ],
   "source": [
    "import matplotlib as mpl\n",
    "print(mpl.get_cachedir())"
   ],
   "metadata": {
    "collapsed": false
   }
  },
  {
   "cell_type": "code",
   "execution_count": 12,
   "outputs": [
    {
     "data": {
      "text/plain": "Text(0.5, 1.0, 'hjf')"
     },
     "execution_count": 12,
     "metadata": {},
     "output_type": "execute_result"
    },
    {
     "data": {
      "text/plain": "<Figure size 3600x1200 with 1 Axes>",
      "image/png": "[encoded data removed]"
     },
     "metadata": {},
     "output_type": "display_data"
    }
   ],
   "source": [
    "import matplotlib as mpl\n",
    "import matplotlib.pyplot as plt\n",
    "plt.rcParams['font.family'] = 'Times New Roman'\n",
    "plt.style.use(['science', 'ieee'])\n",
    "# plt.rcParams[\"text.usetex\"] = False\n",
    "plt.rcParams['figure.figsize'] = 6, 2\n",
    "plt.figure()\n",
    "plt.title(\"hjf\")"
   ],
   "metadata": {
    "collapsed": false
   }
  },
  {
   "cell_type": "code",
   "execution_count": 5,
   "outputs": [
    {
     "name": "stdout",
     "output_type": "stream",
     "text": [
      "Arial\n",
      "Arial\n",
      "Arial\n",
      "Arial\n",
      "Arial\n",
      "Bahnschrift\n",
      "Calibri\n",
      "Calibri\n",
      "Calibri\n",
      "Calibri\n",
      "Calibri\n",
      "Calibri\n",
      "Cambria\n",
      "Cambria\n",
      "Cambria\n",
      "Cambria\n",
      "Candara\n",
      "Candara\n",
      "Candara\n",
      "Candara\n",
      "Candara\n",
      "Candara\n",
      "Comic Sans MS\n",
      "Comic Sans MS\n",
      "Comic Sans MS\n",
      "Comic Sans MS\n",
      "Consolas\n",
      "Consolas\n",
      "Consolas\n",
      "Consolas\n",
      "Constantia\n",
      "Constantia\n",
      "Constantia\n",
      "Constantia\n",
      "Corbel\n",
      "Corbel\n",
      "Corbel\n",
      "Corbel\n",
      "Corbel\n",
      "Corbel\n",
      "Courier New\n",
      "Courier New\n",
      "Courier New\n",
      "Courier New\n",
      "DejaVu Sans\n",
      "DejaVu Sans\n",
      "DejaVu Sans\n",
      "DejaVu Sans\n",
      "DejaVu Sans Display\n",
      "DejaVu Sans Mono\n",
      "DejaVu Sans Mono\n",
      "DejaVu Sans Mono\n",
      "DejaVu Sans Mono\n",
      "DejaVu Serif\n",
      "DejaVu Serif\n",
      "DejaVu Serif\n",
      "DejaVu Serif\n",
      "DejaVu Serif Display\n",
      "DengXian\n",
      "DengXian\n",
      "DengXian\n",
      "Ebrima\n",
      "Ebrima\n",
      "FangSong\n",
      "Franklin Gothic Medium\n",
      "Franklin Gothic Medium\n",
      "Gabriola\n",
      "Gadugi\n",
      "Gadugi\n",
      "Georgia\n",
      "Georgia\n",
      "Georgia\n",
      "Georgia\n",
      "HoloLens MDL2 Assets\n",
      "Impact\n",
      "Ink Free\n",
      "Javanese Text\n",
      "KaiTi\n",
      "Leelawadee UI\n",
      "Leelawadee UI\n",
      "Leelawadee UI\n",
      "Lucida Console\n",
      "Lucida Sans Unicode\n",
      "MS Gothic\n",
      "MV Boli\n",
      "Malgun Gothic\n",
      "Malgun Gothic\n",
      "Malgun Gothic\n",
      "Marlett\n",
      "Microsoft Himalaya\n",
      "Microsoft JhengHei\n",
      "Microsoft JhengHei\n",
      "Microsoft JhengHei\n",
      "Microsoft New Tai Lue\n",
      "Microsoft New Tai Lue\n",
      "Microsoft PhagsPa\n",
      "Microsoft PhagsPa\n",
      "Microsoft Sans Serif\n",
      "Microsoft Tai Le\n",
      "Microsoft Tai Le\n",
      "Microsoft YaHei\n",
      "Microsoft YaHei\n",
      "Microsoft YaHei\n",
      "Microsoft Yi Baiti\n",
      "MingLiU-ExtB\n",
      "Mongolian Baiti\n",
      "Myanmar Text\n",
      "Myanmar Text\n",
      "Nirmala UI\n",
      "Nirmala UI\n",
      "Nirmala UI\n",
      "Palatino Linotype\n",
      "Palatino Linotype\n",
      "Palatino Linotype\n",
      "Palatino Linotype\n",
      "STIXGeneral\n",
      "STIXGeneral\n",
      "STIXGeneral\n",
      "STIXGeneral\n",
      "STIXNonUnicode\n",
      "STIXNonUnicode\n",
      "STIXNonUnicode\n",
      "STIXNonUnicode\n",
      "STIXSizeFiveSym\n",
      "STIXSizeFourSym\n",
      "STIXSizeFourSym\n",
      "STIXSizeOneSym\n",
      "STIXSizeOneSym\n",
      "STIXSizeThreeSym\n",
      "STIXSizeThreeSym\n",
      "STIXSizeTwoSym\n",
      "STIXSizeTwoSym\n",
      "Segoe MDL2 Assets\n",
      "Segoe Print\n",
      "Segoe Print\n",
      "Segoe Script\n",
      "Segoe Script\n",
      "Segoe UI\n",
      "Segoe UI\n",
      "Segoe UI\n",
      "Segoe UI\n",
      "Segoe UI\n",
      "Segoe UI\n",
      "Segoe UI\n",
      "Segoe UI\n",
      "Segoe UI\n",
      "Segoe UI\n",
      "Segoe UI\n",
      "Segoe UI\n",
      "Segoe UI Emoji\n",
      "Segoe UI Historic\n",
      "Segoe UI Symbol\n",
      "SimHei\n",
      "SimSun\n",
      "SimSun-ExtB\n",
      "Sitka Small\n",
      "Sitka Small\n",
      "Sitka Small\n",
      "Sitka Small\n",
      "Sylfaen\n",
      "Symbol\n",
      "Tahoma\n",
      "Tahoma\n",
      "Times New Roman\n",
      "Times New Roman\n",
      "Times New Roman\n",
      "Times New Roman\n",
      "Trebuchet MS\n",
      "Trebuchet MS\n",
      "Trebuchet MS\n",
      "Trebuchet MS\n",
      "Verdana\n",
      "Verdana\n",
      "Verdana\n",
      "Verdana\n",
      "Webdings\n",
      "Wingdings\n",
      "Yu Gothic\n",
      "Yu Gothic\n",
      "Yu Gothic\n",
      "Yu Gothic\n",
      "cmb10\n",
      "cmex10\n",
      "cmmi10\n",
      "cmr10\n",
      "cmss10\n",
      "cmsy10\n",
      "cmtt10\n"
     ]
    }
   ],
   "source": [
    "import matplotlib\n",
    "from matplotlib import font_manager\n",
    "\n",
    "font_list=sorted([f.name for f in matplotlib.font_manager.fontManager.ttflist])\n",
    "for i in font_list:\n",
    "    print(i)"
   ],
   "metadata": {
    "collapsed": false
   }
  },
  {
   "cell_type": "code",
   "execution_count": null,
   "outputs": [],
   "source": [],
   "metadata": {
    "collapsed": false
   }
  }
 ],
 "metadata": {
  "kernelspec": {
   "display_name": "Python 3",
   "language": "python",
   "name": "python3"
  },
  "language_info": {
   "codemirror_mode": {
    "name": "ipython",
    "version": 2
   },
   "file_extension": ".py",
   "mimetype": "text/x-python",
   "name": "python",
   "nbconvert_exporter": "python",
   "pygments_lexer": "ipython2",
   "version": "2.7.6"
  }
 },
 "nbformat": 4,
 "nbformat_minor": 0
}
